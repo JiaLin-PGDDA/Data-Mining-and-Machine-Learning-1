{
 "cells": [
  {
   "cell_type": "markdown",
   "id": "543f5551",
   "metadata": {},
   "source": [
    "# Dataset2 Bank Product Sales Forecast\n",
    "## Import Required Packages"
   ]
  },
  {
   "cell_type": "code",
   "execution_count": 90,
   "id": "aaf0ecb5",
   "metadata": {
    "ExecuteTime": {
     "end_time": "2023-05-04T22:56:04.423068Z",
     "start_time": "2023-05-04T22:56:04.412540Z"
    }
   },
   "outputs": [],
   "source": [
    "import pandas as pd\n",
    "import numpy as np\n",
    "\n",
    "import seaborn as sns # boxplot, histplot\n",
    "import matplotlib.pyplot as plt # plot\n",
    "\n",
    "from sklearn.feature_selection import SelectPercentile # Feature Selection\n",
    "from sklearn.feature_selection import f_regression # for linear regression\n",
    "\n",
    "from sklearn import preprocessing # Scaling IV Normalisition\n",
    "from sklearn.preprocessing import StandardScaler # Scaling IV Standardising\n",
    "\n",
    "from sklearn import decomposition # Principal Component Analysis\n",
    "from sklearn import tree\n",
    "\n",
    "from sklearn import model_selection\n",
    "from sklearn.model_selection import train_test_split\n",
    "from sklearn.model_selection import cross_val_score\n",
    "\n",
    "from sklearn.linear_model import LogisticRegression # LogisticRegression\n",
    "from sklearn.tree import DecisionTreeClassifier # Decision Tree\n",
    "from sklearn.neighbors import KNeighborsClassifier # KNN\n",
    "\n",
    "from sklearn import metrics\n",
    "from sklearn.metrics import confusion_matrix\n",
    "from sklearn.metrics import classification_report\n",
    "from sklearn.metrics import roc_auc_score\n",
    "from sklearn.metrics import roc_curve"
   ]
  },
  {
   "cell_type": "markdown",
   "id": "e5502e2d",
   "metadata": {},
   "source": [
    "## Load Data\n",
    "\n",
    "https://mymoodle.ncirl.ie/pluginfile.php/45006/mod_resource/content/1/65y_Bank.CSV"
   ]
  },
  {
   "cell_type": "code",
   "execution_count": 2,
   "id": "a0932a8a",
   "metadata": {
    "ExecuteTime": {
     "end_time": "2023-05-04T21:58:50.447639Z",
     "start_time": "2023-05-04T21:58:50.356635Z"
    }
   },
   "outputs": [
    {
     "name": "stdout",
     "output_type": "stream",
     "text": [
      "<class 'pandas.core.frame.DataFrame'>\n",
      "RangeIndex: 45211 entries, 0 to 45210\n",
      "Data columns (total 17 columns):\n",
      " #   Column     Non-Null Count  Dtype \n",
      "---  ------     --------------  ----- \n",
      " 0   age        45211 non-null  int64 \n",
      " 1   job        45211 non-null  object\n",
      " 2   marital    45211 non-null  object\n",
      " 3   education  45211 non-null  object\n",
      " 4   default    45211 non-null  object\n",
      " 5   balance    45211 non-null  int64 \n",
      " 6   housing    45211 non-null  object\n",
      " 7   loan       45211 non-null  object\n",
      " 8   contact    45211 non-null  object\n",
      " 9   day        45211 non-null  int64 \n",
      " 10  month      45211 non-null  object\n",
      " 11  duration   45211 non-null  int64 \n",
      " 12  campaign   45211 non-null  int64 \n",
      " 13  pdays      45211 non-null  int64 \n",
      " 14  previous   45211 non-null  int64 \n",
      " 15  poutcome   45211 non-null  object\n",
      " 16  y          45211 non-null  object\n",
      "dtypes: int64(7), object(10)\n",
      "memory usage: 5.9+ MB\n"
     ]
    }
   ],
   "source": [
    "#Load Data In Pandas\n",
    "df = pd.read_csv('Bank.csv')\n",
    "df.info()"
   ]
  },
  {
   "cell_type": "markdown",
   "id": "1730ec53",
   "metadata": {},
   "source": [
    "## Data Preprocess\n",
    "### Drop rows with missing values"
   ]
  },
  {
   "cell_type": "code",
   "execution_count": 3,
   "id": "10bad889",
   "metadata": {
    "ExecuteTime": {
     "end_time": "2023-05-04T21:58:50.531453Z",
     "start_time": "2023-05-04T21:58:50.450464Z"
    }
   },
   "outputs": [
    {
     "name": "stdout",
     "output_type": "stream",
     "text": [
      "<class 'pandas.core.frame.DataFrame'>\n",
      "RangeIndex: 45211 entries, 0 to 45210\n",
      "Data columns (total 17 columns):\n",
      " #   Column     Non-Null Count  Dtype \n",
      "---  ------     --------------  ----- \n",
      " 0   age        45211 non-null  int64 \n",
      " 1   job        45211 non-null  object\n",
      " 2   marital    45211 non-null  object\n",
      " 3   education  45211 non-null  object\n",
      " 4   default    45211 non-null  object\n",
      " 5   balance    45211 non-null  int64 \n",
      " 6   housing    45211 non-null  object\n",
      " 7   loan       45211 non-null  object\n",
      " 8   contact    45211 non-null  object\n",
      " 9   day        45211 non-null  int64 \n",
      " 10  month      45211 non-null  object\n",
      " 11  duration   45211 non-null  int64 \n",
      " 12  campaign   45211 non-null  int64 \n",
      " 13  pdays      45211 non-null  int64 \n",
      " 14  previous   45211 non-null  int64 \n",
      " 15  poutcome   45211 non-null  object\n",
      " 16  y          45211 non-null  object\n",
      "dtypes: int64(7), object(10)\n",
      "memory usage: 5.9+ MB\n"
     ]
    }
   ],
   "source": [
    "# Drop rows with missing values NaN\n",
    "df.dropna()\n",
    "df.info() # there is no change at this stage"
   ]
  },
  {
   "cell_type": "markdown",
   "id": "eddac5f4",
   "metadata": {},
   "source": [
    "### Detect Duplicated Rows and Drop Duplicates"
   ]
  },
  {
   "cell_type": "code",
   "execution_count": 4,
   "id": "563cd8dd",
   "metadata": {
    "ExecuteTime": {
     "end_time": "2023-05-04T21:58:50.618210Z",
     "start_time": "2023-05-04T21:58:50.533839Z"
    }
   },
   "outputs": [
    {
     "name": "stdout",
     "output_type": "stream",
     "text": [
      "<class 'pandas.core.frame.DataFrame'>\n",
      "RangeIndex: 45211 entries, 0 to 45210\n",
      "Data columns (total 17 columns):\n",
      " #   Column     Non-Null Count  Dtype \n",
      "---  ------     --------------  ----- \n",
      " 0   age        45211 non-null  int64 \n",
      " 1   job        45211 non-null  object\n",
      " 2   marital    45211 non-null  object\n",
      " 3   education  45211 non-null  object\n",
      " 4   default    45211 non-null  object\n",
      " 5   balance    45211 non-null  int64 \n",
      " 6   housing    45211 non-null  object\n",
      " 7   loan       45211 non-null  object\n",
      " 8   contact    45211 non-null  object\n",
      " 9   day        45211 non-null  int64 \n",
      " 10  month      45211 non-null  object\n",
      " 11  duration   45211 non-null  int64 \n",
      " 12  campaign   45211 non-null  int64 \n",
      " 13  pdays      45211 non-null  int64 \n",
      " 14  previous   45211 non-null  int64 \n",
      " 15  poutcome   45211 non-null  object\n",
      " 16  y          45211 non-null  object\n",
      "dtypes: int64(7), object(10)\n",
      "memory usage: 5.9+ MB\n"
     ]
    }
   ],
   "source": [
    "df.duplicated(df,keep=False)\n",
    "df.drop_duplicates(df,keep=False)\n",
    "df.info() # No Duplicated Rows"
   ]
  },
  {
   "cell_type": "markdown",
   "id": "7e28a4f0",
   "metadata": {},
   "source": [
    "### Dealing with Categorical Data"
   ]
  },
  {
   "cell_type": "code",
   "execution_count": 5,
   "id": "b4a1ea22",
   "metadata": {
    "ExecuteTime": {
     "end_time": "2023-05-04T21:58:50.640262Z",
     "start_time": "2023-05-04T21:58:50.619339Z"
    }
   },
   "outputs": [
    {
     "name": "stdout",
     "output_type": "stream",
     "text": [
      "job :  ['management' 'technician' 'entrepreneur' 'blue-collar' 'unknown'\n",
      " 'retired' 'admin.' 'services' 'self-employed' 'unemployed' 'housemaid'\n",
      " 'student']\n",
      "marital :  ['married' 'single' 'divorced']\n",
      "education :  ['tertiary' 'secondary' 'unknown' 'primary']\n",
      "default :  ['no' 'yes']\n",
      "housing :  ['yes' 'no']\n",
      "loan :  ['no' 'yes']\n",
      "contact :  ['unknown' 'cellular' 'telephone']\n",
      "month :  ['may' 'jun' 'jul' 'aug' 'oct' 'nov' 'dec' 'jan' 'feb' 'mar' 'apr' 'sep']\n",
      "poutcome :  ['unknown' 'failure' 'other' 'success']\n",
      "y :  ['no' 'yes']\n"
     ]
    }
   ],
   "source": [
    "# Convert categorical string values into integers\n",
    "for colname in df.loc[:, df.dtypes == object]:\n",
    "    print(colname,': ',df[colname].unique())"
   ]
  },
  {
   "cell_type": "code",
   "execution_count": 6,
   "id": "a9e14480",
   "metadata": {
    "ExecuteTime": {
     "end_time": "2023-05-04T21:58:50.688529Z",
     "start_time": "2023-05-04T21:58:50.641782Z"
    }
   },
   "outputs": [
    {
     "name": "stdout",
     "output_type": "stream",
     "text": [
      "<class 'pandas.core.frame.DataFrame'>\n",
      "RangeIndex: 45211 entries, 0 to 45210\n",
      "Data columns (total 17 columns):\n",
      " #   Column     Non-Null Count  Dtype \n",
      "---  ------     --------------  ----- \n",
      " 0   age        45211 non-null  int64 \n",
      " 1   job        45211 non-null  object\n",
      " 2   marital    45211 non-null  object\n",
      " 3   education  45211 non-null  object\n",
      " 4   default    45211 non-null  int64 \n",
      " 5   balance    45211 non-null  int64 \n",
      " 6   housing    45211 non-null  int64 \n",
      " 7   loan       45211 non-null  int64 \n",
      " 8   contact    45211 non-null  object\n",
      " 9   day        45211 non-null  int64 \n",
      " 10  month      45211 non-null  object\n",
      " 11  duration   45211 non-null  int64 \n",
      " 12  campaign   45211 non-null  int64 \n",
      " 13  pdays      45211 non-null  int64 \n",
      " 14  previous   45211 non-null  int64 \n",
      " 15  poutcome   45211 non-null  object\n",
      " 16  y          45211 non-null  int64 \n",
      "dtypes: int64(11), object(6)\n",
      "memory usage: 5.9+ MB\n"
     ]
    }
   ],
   "source": [
    "# Change all columns with values only 'yes' or 'no' to 1 and 0 respectively\n",
    "yes_no_mapping={'yes': 1, 'no': 0}\n",
    "#month_mapping ={'jan': 1, 'feb': 2, 'mar': 3, 'apr': 4,\n",
    "                #'may': 5, 'jun': 6, 'jul': 7, 'aug': 8,\n",
    "                #'sep': 9, 'oct': 10, 'nov': 11, 'dec': 12}\n",
    "def obj_to_int(col_name, mapping):\n",
    "    df[col_name] = df[col_name].map(mapping)\n",
    "    \n",
    "obj_to_int('default', yes_no_mapping)\n",
    "obj_to_int('housing', yes_no_mapping)\n",
    "obj_to_int('loan', yes_no_mapping)\n",
    "obj_to_int('y', yes_no_mapping)\n",
    "#obj_to_int('month', month_mapping)\n",
    "df.info()"
   ]
  },
  {
   "cell_type": "code",
   "execution_count": 7,
   "id": "20e9f174",
   "metadata": {
    "ExecuteTime": {
     "end_time": "2023-05-04T21:58:50.705492Z",
     "start_time": "2023-05-04T21:58:50.689639Z"
    }
   },
   "outputs": [
    {
     "name": "stdout",
     "output_type": "stream",
     "text": [
      "job :  ['management' 'technician' 'entrepreneur' 'blue-collar' 'unknown'\n",
      " 'retired' 'admin.' 'services' 'self-employed' 'unemployed' 'housemaid'\n",
      " 'student']\n",
      "marital :  ['married' 'single' 'divorced']\n",
      "education :  ['tertiary' 'secondary' 'unknown' 'primary']\n",
      "contact :  ['unknown' 'cellular' 'telephone']\n",
      "month :  ['may' 'jun' 'jul' 'aug' 'oct' 'nov' 'dec' 'jan' 'feb' 'mar' 'apr' 'sep']\n",
      "poutcome :  ['unknown' 'failure' 'other' 'success']\n"
     ]
    }
   ],
   "source": [
    "for colname in df.loc[:, df.dtypes == object]:\n",
    "    print(colname,': ',df[colname].unique())"
   ]
  },
  {
   "cell_type": "markdown",
   "id": "c13a90ba",
   "metadata": {
    "ExecuteTime": {
     "end_time": "2023-04-29T22:27:31.274251Z",
     "start_time": "2023-04-29T22:27:31.269529Z"
    }
   },
   "source": [
    "### Data Exploration\n",
    "(https://towardsdatascience.com/building-a-logistic-regression-in-python-step-by-step-becd4d56c9c8) Got idea and some source code from this webpage, do some modifications to fit datasets in this research study."
   ]
  },
  {
   "cell_type": "code",
   "execution_count": 8,
   "id": "16a5e194",
   "metadata": {
    "ExecuteTime": {
     "end_time": "2023-05-04T21:58:50.714813Z",
     "start_time": "2023-05-04T21:58:50.709371Z"
    }
   },
   "outputs": [
    {
     "data": {
      "text/plain": [
       "0    39922\n",
       "1     5289\n",
       "Name: y, dtype: int64"
      ]
     },
     "execution_count": 8,
     "metadata": {},
     "output_type": "execute_result"
    }
   ],
   "source": [
    "df['y'].value_counts()"
   ]
  },
  {
   "cell_type": "code",
   "execution_count": 9,
   "id": "0d7bb73c",
   "metadata": {
    "ExecuteTime": {
     "end_time": "2023-05-04T21:58:50.792128Z",
     "start_time": "2023-05-04T21:58:50.715828Z"
    }
   },
   "outputs": [
    {
     "data": {
      "image/png": "[encoded data removed]",
      "text/plain": [
       "<Figure size 640x480 with 1 Axes>"
      ]
     },
     "metadata": {},
     "output_type": "display_data"
    },
    {
     "name": "stdout",
     "output_type": "stream",
     "text": [
      "percentage of no is: 88.30151954170445\n",
      "percentage of yes is: 11.698480458295547\n"
     ]
    }
   ],
   "source": [
    "sns.countplot(x='y', data=df, palette='hls')\n",
    "plt.show()\n",
    "count_no_sub = len(df[df['y']==0])\n",
    "count_sub = len(df[df['y']==1])\n",
    "pct_of_no_sub = count_no_sub/(count_no_sub+count_sub)\n",
    "print(\"percentage of no is:\", pct_of_no_sub*100)\n",
    "pct_of_sub = count_sub/(count_no_sub+count_sub)\n",
    "print(\"percentage of yes is:\", pct_of_sub*100)"
   ]
  },
  {
   "cell_type": "code",
   "execution_count": 10,
   "id": "ca225bba",
   "metadata": {
    "ExecuteTime": {
     "end_time": "2023-05-04T21:58:50.805341Z",
     "start_time": "2023-05-04T21:58:50.793148Z"
    }
   },
   "outputs": [
    {
     "data": {
      "text/html": [
       "<div>\n",
       "<style scoped>\n",
       "    .dataframe tbody tr th:only-of-type {\n",
       "        vertical-align: middle;\n",
       "    }\n",
       "\n",
       "    .dataframe tbody tr th {\n",
       "        vertical-align: top;\n",
       "    }\n",
       "\n",
       "    .dataframe thead th {\n",
       "        text-align: right;\n",
       "    }\n",
       "</style>\n",
       "<table border=\"1\" class=\"dataframe\">\n",
       "  <thead>\n",
       "    <tr style=\"text-align: right;\">\n",
       "      <th></th>\n",
       "      <th>age</th>\n",
       "      <th>default</th>\n",
       "      <th>balance</th>\n",
       "      <th>housing</th>\n",
       "      <th>loan</th>\n",
       "      <th>day</th>\n",
       "      <th>duration</th>\n",
       "      <th>campaign</th>\n",
       "      <th>pdays</th>\n",
       "      <th>previous</th>\n",
       "    </tr>\n",
       "    <tr>\n",
       "      <th>y</th>\n",
       "      <th></th>\n",
       "      <th></th>\n",
       "      <th></th>\n",
       "      <th></th>\n",
       "      <th></th>\n",
       "      <th></th>\n",
       "      <th></th>\n",
       "      <th></th>\n",
       "      <th></th>\n",
       "      <th></th>\n",
       "    </tr>\n",
       "  </thead>\n",
       "  <tbody>\n",
       "    <tr>\n",
       "      <th>0</th>\n",
       "      <td>40.838986</td>\n",
       "      <td>0.019112</td>\n",
       "      <td>1303.714969</td>\n",
       "      <td>0.581008</td>\n",
       "      <td>0.169330</td>\n",
       "      <td>15.892290</td>\n",
       "      <td>221.182806</td>\n",
       "      <td>2.846350</td>\n",
       "      <td>36.421372</td>\n",
       "      <td>0.502154</td>\n",
       "    </tr>\n",
       "    <tr>\n",
       "      <th>1</th>\n",
       "      <td>41.670070</td>\n",
       "      <td>0.009832</td>\n",
       "      <td>1804.267915</td>\n",
       "      <td>0.365854</td>\n",
       "      <td>0.091511</td>\n",
       "      <td>15.158253</td>\n",
       "      <td>537.294574</td>\n",
       "      <td>2.141047</td>\n",
       "      <td>68.702968</td>\n",
       "      <td>1.170354</td>\n",
       "    </tr>\n",
       "  </tbody>\n",
       "</table>\n",
       "</div>"
      ],
      "text/plain": [
       "         age   default      balance   housing      loan        day  \\\n",
       "y                                                                    \n",
       "0  40.838986  0.019112  1303.714969  0.581008  0.169330  15.892290   \n",
       "1  41.670070  0.009832  1804.267915  0.365854  0.091511  15.158253   \n",
       "\n",
       "     duration  campaign      pdays  previous  \n",
       "y                                             \n",
       "0  221.182806  2.846350  36.421372  0.502154  \n",
       "1  537.294574  2.141047  68.702968  1.170354  "
      ]
     },
     "execution_count": 10,
     "metadata": {},
     "output_type": "execute_result"
    }
   ],
   "source": [
    "df.groupby('y').mean(numeric_only=True)"
   ]
  },
  {
   "cell_type": "code",
   "execution_count": 11,
   "id": "8b1d35a0",
   "metadata": {
    "ExecuteTime": {
     "end_time": "2023-05-04T21:58:50.818430Z",
     "start_time": "2023-05-04T21:58:50.806274Z"
    }
   },
   "outputs": [
    {
     "data": {
      "text/html": [
       "<div>\n",
       "<style scoped>\n",
       "    .dataframe tbody tr th:only-of-type {\n",
       "        vertical-align: middle;\n",
       "    }\n",
       "\n",
       "    .dataframe tbody tr th {\n",
       "        vertical-align: top;\n",
       "    }\n",
       "\n",
       "    .dataframe thead th {\n",
       "        text-align: right;\n",
       "    }\n",
       "</style>\n",
       "<table border=\"1\" class=\"dataframe\">\n",
       "  <thead>\n",
       "    <tr style=\"text-align: right;\">\n",
       "      <th></th>\n",
       "      <th>age</th>\n",
       "      <th>default</th>\n",
       "      <th>balance</th>\n",
       "      <th>housing</th>\n",
       "      <th>loan</th>\n",
       "      <th>day</th>\n",
       "      <th>duration</th>\n",
       "      <th>campaign</th>\n",
       "      <th>pdays</th>\n",
       "      <th>previous</th>\n",
       "      <th>y</th>\n",
       "    </tr>\n",
       "    <tr>\n",
       "      <th>job</th>\n",
       "      <th></th>\n",
       "      <th></th>\n",
       "      <th></th>\n",
       "      <th></th>\n",
       "      <th></th>\n",
       "      <th></th>\n",
       "      <th></th>\n",
       "      <th></th>\n",
       "      <th></th>\n",
       "      <th></th>\n",
       "      <th></th>\n",
       "    </tr>\n",
       "  </thead>\n",
       "  <tbody>\n",
       "    <tr>\n",
       "      <th>admin.</th>\n",
       "      <td>39.289886</td>\n",
       "      <td>0.014311</td>\n",
       "      <td>1135.838909</td>\n",
       "      <td>0.615355</td>\n",
       "      <td>0.191646</td>\n",
       "      <td>15.564301</td>\n",
       "      <td>246.896732</td>\n",
       "      <td>2.575324</td>\n",
       "      <td>47.859021</td>\n",
       "      <td>0.671630</td>\n",
       "      <td>0.122027</td>\n",
       "    </tr>\n",
       "    <tr>\n",
       "      <th>blue-collar</th>\n",
       "      <td>40.044081</td>\n",
       "      <td>0.020654</td>\n",
       "      <td>1078.826654</td>\n",
       "      <td>0.724209</td>\n",
       "      <td>0.173037</td>\n",
       "      <td>15.442561</td>\n",
       "      <td>262.901562</td>\n",
       "      <td>2.816995</td>\n",
       "      <td>44.033498</td>\n",
       "      <td>0.505138</td>\n",
       "      <td>0.072750</td>\n",
       "    </tr>\n",
       "    <tr>\n",
       "      <th>entrepreneur</th>\n",
       "      <td>42.190989</td>\n",
       "      <td>0.036987</td>\n",
       "      <td>1521.470074</td>\n",
       "      <td>0.584398</td>\n",
       "      <td>0.239408</td>\n",
       "      <td>15.702085</td>\n",
       "      <td>256.309348</td>\n",
       "      <td>2.799597</td>\n",
       "      <td>32.486214</td>\n",
       "      <td>0.478144</td>\n",
       "      <td>0.082717</td>\n",
       "    </tr>\n",
       "    <tr>\n",
       "      <th>housemaid</th>\n",
       "      <td>46.415323</td>\n",
       "      <td>0.017742</td>\n",
       "      <td>1392.395161</td>\n",
       "      <td>0.320968</td>\n",
       "      <td>0.122581</td>\n",
       "      <td>16.002419</td>\n",
       "      <td>245.825000</td>\n",
       "      <td>2.820968</td>\n",
       "      <td>21.505645</td>\n",
       "      <td>0.371774</td>\n",
       "      <td>0.087903</td>\n",
       "    </tr>\n",
       "    <tr>\n",
       "      <th>management</th>\n",
       "      <td>40.449567</td>\n",
       "      <td>0.017340</td>\n",
       "      <td>1763.616832</td>\n",
       "      <td>0.494608</td>\n",
       "      <td>0.132480</td>\n",
       "      <td>16.114189</td>\n",
       "      <td>253.995771</td>\n",
       "      <td>2.864348</td>\n",
       "      <td>38.665468</td>\n",
       "      <td>0.668006</td>\n",
       "      <td>0.137556</td>\n",
       "    </tr>\n",
       "    <tr>\n",
       "      <th>retired</th>\n",
       "      <td>61.626767</td>\n",
       "      <td>0.011484</td>\n",
       "      <td>1984.215106</td>\n",
       "      <td>0.216873</td>\n",
       "      <td>0.136484</td>\n",
       "      <td>15.439488</td>\n",
       "      <td>287.361307</td>\n",
       "      <td>2.346731</td>\n",
       "      <td>37.443905</td>\n",
       "      <td>0.638693</td>\n",
       "      <td>0.227915</td>\n",
       "    </tr>\n",
       "    <tr>\n",
       "      <th>self-employed</th>\n",
       "      <td>40.484484</td>\n",
       "      <td>0.020899</td>\n",
       "      <td>1647.970868</td>\n",
       "      <td>0.484484</td>\n",
       "      <td>0.145028</td>\n",
       "      <td>16.027866</td>\n",
       "      <td>268.157061</td>\n",
       "      <td>2.853072</td>\n",
       "      <td>34.747308</td>\n",
       "      <td>0.551615</td>\n",
       "      <td>0.118429</td>\n",
       "    </tr>\n",
       "    <tr>\n",
       "      <th>services</th>\n",
       "      <td>38.740250</td>\n",
       "      <td>0.018055</td>\n",
       "      <td>997.088108</td>\n",
       "      <td>0.665864</td>\n",
       "      <td>0.201252</td>\n",
       "      <td>15.635532</td>\n",
       "      <td>259.318729</td>\n",
       "      <td>2.718344</td>\n",
       "      <td>41.995185</td>\n",
       "      <td>0.501204</td>\n",
       "      <td>0.088830</td>\n",
       "    </tr>\n",
       "    <tr>\n",
       "      <th>student</th>\n",
       "      <td>26.542644</td>\n",
       "      <td>0.003198</td>\n",
       "      <td>1388.060768</td>\n",
       "      <td>0.265458</td>\n",
       "      <td>0.012793</td>\n",
       "      <td>14.897655</td>\n",
       "      <td>246.656716</td>\n",
       "      <td>2.299574</td>\n",
       "      <td>57.041578</td>\n",
       "      <td>0.953092</td>\n",
       "      <td>0.286780</td>\n",
       "    </tr>\n",
       "    <tr>\n",
       "      <th>technician</th>\n",
       "      <td>39.314598</td>\n",
       "      <td>0.017112</td>\n",
       "      <td>1252.632092</td>\n",
       "      <td>0.541661</td>\n",
       "      <td>0.172305</td>\n",
       "      <td>16.408582</td>\n",
       "      <td>252.904962</td>\n",
       "      <td>2.906805</td>\n",
       "      <td>37.195077</td>\n",
       "      <td>0.574569</td>\n",
       "      <td>0.110570</td>\n",
       "    </tr>\n",
       "    <tr>\n",
       "      <th>unemployed</th>\n",
       "      <td>40.961627</td>\n",
       "      <td>0.023024</td>\n",
       "      <td>1521.745971</td>\n",
       "      <td>0.416731</td>\n",
       "      <td>0.083653</td>\n",
       "      <td>15.498081</td>\n",
       "      <td>288.543361</td>\n",
       "      <td>2.432080</td>\n",
       "      <td>34.146585</td>\n",
       "      <td>0.466616</td>\n",
       "      <td>0.155027</td>\n",
       "    </tr>\n",
       "    <tr>\n",
       "      <th>unknown</th>\n",
       "      <td>47.593750</td>\n",
       "      <td>0.006944</td>\n",
       "      <td>1772.357639</td>\n",
       "      <td>0.090278</td>\n",
       "      <td>0.013889</td>\n",
       "      <td>14.642361</td>\n",
       "      <td>237.611111</td>\n",
       "      <td>3.309028</td>\n",
       "      <td>20.982639</td>\n",
       "      <td>0.319444</td>\n",
       "      <td>0.118056</td>\n",
       "    </tr>\n",
       "  </tbody>\n",
       "</table>\n",
       "</div>"
      ],
      "text/plain": [
       "                     age   default      balance   housing      loan  \\\n",
       "job                                                                   \n",
       "admin.         39.289886  0.014311  1135.838909  0.615355  0.191646   \n",
       "blue-collar    40.044081  0.020654  1078.826654  0.724209  0.173037   \n",
       "entrepreneur   42.190989  0.036987  1521.470074  0.584398  0.239408   \n",
       "housemaid      46.415323  0.017742  1392.395161  0.320968  0.122581   \n",
       "management     40.449567  0.017340  1763.616832  0.494608  0.132480   \n",
       "retired        61.626767  0.011484  1984.215106  0.216873  0.136484   \n",
       "self-employed  40.484484  0.020899  1647.970868  0.484484  0.145028   \n",
       "services       38.740250  0.018055   997.088108  0.665864  0.201252   \n",
       "student        26.542644  0.003198  1388.060768  0.265458  0.012793   \n",
       "technician     39.314598  0.017112  1252.632092  0.541661  0.172305   \n",
       "unemployed     40.961627  0.023024  1521.745971  0.416731  0.083653   \n",
       "unknown        47.593750  0.006944  1772.357639  0.090278  0.013889   \n",
       "\n",
       "                     day    duration  campaign      pdays  previous         y  \n",
       "job                                                                            \n",
       "admin.         15.564301  246.896732  2.575324  47.859021  0.671630  0.122027  \n",
       "blue-collar    15.442561  262.901562  2.816995  44.033498  0.505138  0.072750  \n",
       "entrepreneur   15.702085  256.309348  2.799597  32.486214  0.478144  0.082717  \n",
       "housemaid      16.002419  245.825000  2.820968  21.505645  0.371774  0.087903  \n",
       "management     16.114189  253.995771  2.864348  38.665468  0.668006  0.137556  \n",
       "retired        15.439488  287.361307  2.346731  37.443905  0.638693  0.227915  \n",
       "self-employed  16.027866  268.157061  2.853072  34.747308  0.551615  0.118429  \n",
       "services       15.635532  259.318729  2.718344  41.995185  0.501204  0.088830  \n",
       "student        14.897655  246.656716  2.299574  57.041578  0.953092  0.286780  \n",
       "technician     16.408582  252.904962  2.906805  37.195077  0.574569  0.110570  \n",
       "unemployed     15.498081  288.543361  2.432080  34.146585  0.466616  0.155027  \n",
       "unknown        14.642361  237.611111  3.309028  20.982639  0.319444  0.118056  "
      ]
     },
     "execution_count": 11,
     "metadata": {},
     "output_type": "execute_result"
    }
   ],
   "source": [
    "df.groupby('job').mean(numeric_only=True)"
   ]
  },
  {
   "cell_type": "code",
   "execution_count": 12,
   "id": "817c56a3",
   "metadata": {
    "ExecuteTime": {
     "end_time": "2023-05-04T21:58:50.829268Z",
     "start_time": "2023-05-04T21:58:50.819514Z"
    }
   },
   "outputs": [
    {
     "data": {
      "text/html": [
       "<div>\n",
       "<style scoped>\n",
       "    .dataframe tbody tr th:only-of-type {\n",
       "        vertical-align: middle;\n",
       "    }\n",
       "\n",
       "    .dataframe tbody tr th {\n",
       "        vertical-align: top;\n",
       "    }\n",
       "\n",
       "    .dataframe thead th {\n",
       "        text-align: right;\n",
       "    }\n",
       "</style>\n",
       "<table border=\"1\" class=\"dataframe\">\n",
       "  <thead>\n",
       "    <tr style=\"text-align: right;\">\n",
       "      <th></th>\n",
       "      <th>age</th>\n",
       "      <th>default</th>\n",
       "      <th>balance</th>\n",
       "      <th>housing</th>\n",
       "      <th>loan</th>\n",
       "      <th>day</th>\n",
       "      <th>duration</th>\n",
       "      <th>campaign</th>\n",
       "      <th>pdays</th>\n",
       "      <th>previous</th>\n",
       "      <th>y</th>\n",
       "    </tr>\n",
       "    <tr>\n",
       "      <th>marital</th>\n",
       "      <th></th>\n",
       "      <th></th>\n",
       "      <th></th>\n",
       "      <th></th>\n",
       "      <th></th>\n",
       "      <th></th>\n",
       "      <th></th>\n",
       "      <th></th>\n",
       "      <th></th>\n",
       "      <th></th>\n",
       "      <th></th>\n",
       "    </tr>\n",
       "  </thead>\n",
       "  <tbody>\n",
       "    <tr>\n",
       "      <th>divorced</th>\n",
       "      <td>45.782984</td>\n",
       "      <td>0.024582</td>\n",
       "      <td>1178.872287</td>\n",
       "      <td>0.558287</td>\n",
       "      <td>0.176877</td>\n",
       "      <td>15.796428</td>\n",
       "      <td>262.517188</td>\n",
       "      <td>2.630882</td>\n",
       "      <td>41.001728</td>\n",
       "      <td>0.551373</td>\n",
       "      <td>0.119455</td>\n",
       "    </tr>\n",
       "    <tr>\n",
       "      <th>married</th>\n",
       "      <td>43.408099</td>\n",
       "      <td>0.016462</td>\n",
       "      <td>1425.925590</td>\n",
       "      <td>0.562982</td>\n",
       "      <td>0.171235</td>\n",
       "      <td>15.854487</td>\n",
       "      <td>253.412765</td>\n",
       "      <td>2.842875</td>\n",
       "      <td>37.950467</td>\n",
       "      <td>0.556552</td>\n",
       "      <td>0.101235</td>\n",
       "    </tr>\n",
       "    <tr>\n",
       "      <th>single</th>\n",
       "      <td>33.703440</td>\n",
       "      <td>0.018686</td>\n",
       "      <td>1301.497654</td>\n",
       "      <td>0.539640</td>\n",
       "      <td>0.130023</td>\n",
       "      <td>15.708210</td>\n",
       "      <td>266.497967</td>\n",
       "      <td>2.649805</td>\n",
       "      <td>44.652385</td>\n",
       "      <td>0.642690</td>\n",
       "      <td>0.149492</td>\n",
       "    </tr>\n",
       "  </tbody>\n",
       "</table>\n",
       "</div>"
      ],
      "text/plain": [
       "                age   default      balance   housing      loan        day  \\\n",
       "marital                                                                     \n",
       "divorced  45.782984  0.024582  1178.872287  0.558287  0.176877  15.796428   \n",
       "married   43.408099  0.016462  1425.925590  0.562982  0.171235  15.854487   \n",
       "single    33.703440  0.018686  1301.497654  0.539640  0.130023  15.708210   \n",
       "\n",
       "            duration  campaign      pdays  previous         y  \n",
       "marital                                                        \n",
       "divorced  262.517188  2.630882  41.001728  0.551373  0.119455  \n",
       "married   253.412765  2.842875  37.950467  0.556552  0.101235  \n",
       "single    266.497967  2.649805  44.652385  0.642690  0.149492  "
      ]
     },
     "execution_count": 12,
     "metadata": {},
     "output_type": "execute_result"
    }
   ],
   "source": [
    "df.groupby('marital').mean(numeric_only=True)"
   ]
  },
  {
   "cell_type": "code",
   "execution_count": 13,
   "id": "7115b39d",
   "metadata": {
    "ExecuteTime": {
     "end_time": "2023-05-04T21:58:50.840215Z",
     "start_time": "2023-05-04T21:58:50.830503Z"
    }
   },
   "outputs": [
    {
     "data": {
      "text/html": [
       "<div>\n",
       "<style scoped>\n",
       "    .dataframe tbody tr th:only-of-type {\n",
       "        vertical-align: middle;\n",
       "    }\n",
       "\n",
       "    .dataframe tbody tr th {\n",
       "        vertical-align: top;\n",
       "    }\n",
       "\n",
       "    .dataframe thead th {\n",
       "        text-align: right;\n",
       "    }\n",
       "</style>\n",
       "<table border=\"1\" class=\"dataframe\">\n",
       "  <thead>\n",
       "    <tr style=\"text-align: right;\">\n",
       "      <th></th>\n",
       "      <th>age</th>\n",
       "      <th>default</th>\n",
       "      <th>balance</th>\n",
       "      <th>housing</th>\n",
       "      <th>loan</th>\n",
       "      <th>day</th>\n",
       "      <th>duration</th>\n",
       "      <th>campaign</th>\n",
       "      <th>pdays</th>\n",
       "      <th>previous</th>\n",
       "      <th>y</th>\n",
       "    </tr>\n",
       "    <tr>\n",
       "      <th>education</th>\n",
       "      <th></th>\n",
       "      <th></th>\n",
       "      <th></th>\n",
       "      <th></th>\n",
       "      <th></th>\n",
       "      <th></th>\n",
       "      <th></th>\n",
       "      <th></th>\n",
       "      <th></th>\n",
       "      <th></th>\n",
       "      <th></th>\n",
       "    </tr>\n",
       "  </thead>\n",
       "  <tbody>\n",
       "    <tr>\n",
       "      <th>primary</th>\n",
       "      <td>45.865567</td>\n",
       "      <td>0.018537</td>\n",
       "      <td>1250.949934</td>\n",
       "      <td>0.568384</td>\n",
       "      <td>0.149467</td>\n",
       "      <td>15.421398</td>\n",
       "      <td>255.933002</td>\n",
       "      <td>2.834331</td>\n",
       "      <td>36.081740</td>\n",
       "      <td>0.489272</td>\n",
       "      <td>0.086265</td>\n",
       "    </tr>\n",
       "    <tr>\n",
       "      <th>secondary</th>\n",
       "      <td>39.964270</td>\n",
       "      <td>0.019740</td>\n",
       "      <td>1154.880786</td>\n",
       "      <td>0.605034</td>\n",
       "      <td>0.185458</td>\n",
       "      <td>15.759159</td>\n",
       "      <td>258.685760</td>\n",
       "      <td>2.700802</td>\n",
       "      <td>42.353504</td>\n",
       "      <td>0.567753</td>\n",
       "      <td>0.105594</td>\n",
       "    </tr>\n",
       "    <tr>\n",
       "      <th>tertiary</th>\n",
       "      <td>39.593640</td>\n",
       "      <td>0.014886</td>\n",
       "      <td>1758.416435</td>\n",
       "      <td>0.479513</td>\n",
       "      <td>0.134125</td>\n",
       "      <td>16.086535</td>\n",
       "      <td>258.518532</td>\n",
       "      <td>2.825577</td>\n",
       "      <td>39.024134</td>\n",
       "      <td>0.661980</td>\n",
       "      <td>0.150064</td>\n",
       "    </tr>\n",
       "    <tr>\n",
       "      <th>unknown</th>\n",
       "      <td>44.510501</td>\n",
       "      <td>0.017232</td>\n",
       "      <td>1526.754443</td>\n",
       "      <td>0.441572</td>\n",
       "      <td>0.071621</td>\n",
       "      <td>15.810985</td>\n",
       "      <td>257.313947</td>\n",
       "      <td>2.849219</td>\n",
       "      <td>36.856220</td>\n",
       "      <td>0.488422</td>\n",
       "      <td>0.135703</td>\n",
       "    </tr>\n",
       "  </tbody>\n",
       "</table>\n",
       "</div>"
      ],
      "text/plain": [
       "                 age   default      balance   housing      loan        day  \\\n",
       "education                                                                    \n",
       "primary    45.865567  0.018537  1250.949934  0.568384  0.149467  15.421398   \n",
       "secondary  39.964270  0.019740  1154.880786  0.605034  0.185458  15.759159   \n",
       "tertiary   39.593640  0.014886  1758.416435  0.479513  0.134125  16.086535   \n",
       "unknown    44.510501  0.017232  1526.754443  0.441572  0.071621  15.810985   \n",
       "\n",
       "             duration  campaign      pdays  previous         y  \n",
       "education                                                       \n",
       "primary    255.933002  2.834331  36.081740  0.489272  0.086265  \n",
       "secondary  258.685760  2.700802  42.353504  0.567753  0.105594  \n",
       "tertiary   258.518532  2.825577  39.024134  0.661980  0.150064  \n",
       "unknown    257.313947  2.849219  36.856220  0.488422  0.135703  "
      ]
     },
     "execution_count": 13,
     "metadata": {},
     "output_type": "execute_result"
    }
   ],
   "source": [
    "df.groupby('education').mean(numeric_only=True)"
   ]
  },
  {
   "cell_type": "code",
   "execution_count": 14,
   "id": "5061c61e",
   "metadata": {
    "ExecuteTime": {
     "end_time": "2023-05-04T21:58:50.850791Z",
     "start_time": "2023-05-04T21:58:50.841110Z"
    }
   },
   "outputs": [
    {
     "data": {
      "text/html": [
       "<div>\n",
       "<style scoped>\n",
       "    .dataframe tbody tr th:only-of-type {\n",
       "        vertical-align: middle;\n",
       "    }\n",
       "\n",
       "    .dataframe tbody tr th {\n",
       "        vertical-align: top;\n",
       "    }\n",
       "\n",
       "    .dataframe thead th {\n",
       "        text-align: right;\n",
       "    }\n",
       "</style>\n",
       "<table border=\"1\" class=\"dataframe\">\n",
       "  <thead>\n",
       "    <tr style=\"text-align: right;\">\n",
       "      <th></th>\n",
       "      <th>age</th>\n",
       "      <th>default</th>\n",
       "      <th>balance</th>\n",
       "      <th>housing</th>\n",
       "      <th>loan</th>\n",
       "      <th>day</th>\n",
       "      <th>duration</th>\n",
       "      <th>campaign</th>\n",
       "      <th>pdays</th>\n",
       "      <th>previous</th>\n",
       "      <th>y</th>\n",
       "    </tr>\n",
       "    <tr>\n",
       "      <th>contact</th>\n",
       "      <th></th>\n",
       "      <th></th>\n",
       "      <th></th>\n",
       "      <th></th>\n",
       "      <th></th>\n",
       "      <th></th>\n",
       "      <th></th>\n",
       "      <th></th>\n",
       "      <th></th>\n",
       "      <th></th>\n",
       "      <th></th>\n",
       "    </tr>\n",
       "  </thead>\n",
       "  <tbody>\n",
       "    <tr>\n",
       "      <th>cellular</th>\n",
       "      <td>40.400785</td>\n",
       "      <td>0.017039</td>\n",
       "      <td>1397.926993</td>\n",
       "      <td>0.498651</td>\n",
       "      <td>0.163906</td>\n",
       "      <td>15.930306</td>\n",
       "      <td>263.013966</td>\n",
       "      <td>2.690114</td>\n",
       "      <td>56.885129</td>\n",
       "      <td>0.804064</td>\n",
       "      <td>0.149189</td>\n",
       "    </tr>\n",
       "    <tr>\n",
       "      <th>telephone</th>\n",
       "      <td>47.837922</td>\n",
       "      <td>0.009291</td>\n",
       "      <td>1803.704061</td>\n",
       "      <td>0.402615</td>\n",
       "      <td>0.141776</td>\n",
       "      <td>16.557467</td>\n",
       "      <td>235.366139</td>\n",
       "      <td>3.400895</td>\n",
       "      <td>46.312801</td>\n",
       "      <td>0.827254</td>\n",
       "      <td>0.134205</td>\n",
       "    </tr>\n",
       "    <tr>\n",
       "      <th>unknown</th>\n",
       "      <td>40.600077</td>\n",
       "      <td>0.022197</td>\n",
       "      <td>1183.550384</td>\n",
       "      <td>0.718664</td>\n",
       "      <td>0.156068</td>\n",
       "      <td>15.360138</td>\n",
       "      <td>252.340476</td>\n",
       "      <td>2.787481</td>\n",
       "      <td>1.299386</td>\n",
       "      <td>0.021966</td>\n",
       "      <td>0.040707</td>\n",
       "    </tr>\n",
       "  </tbody>\n",
       "</table>\n",
       "</div>"
      ],
      "text/plain": [
       "                 age   default      balance   housing      loan        day  \\\n",
       "contact                                                                      \n",
       "cellular   40.400785  0.017039  1397.926993  0.498651  0.163906  15.930306   \n",
       "telephone  47.837922  0.009291  1803.704061  0.402615  0.141776  16.557467   \n",
       "unknown    40.600077  0.022197  1183.550384  0.718664  0.156068  15.360138   \n",
       "\n",
       "             duration  campaign      pdays  previous         y  \n",
       "contact                                                         \n",
       "cellular   263.013966  2.690114  56.885129  0.804064  0.149189  \n",
       "telephone  235.366139  3.400895  46.312801  0.827254  0.134205  \n",
       "unknown    252.340476  2.787481   1.299386  0.021966  0.040707  "
      ]
     },
     "execution_count": 14,
     "metadata": {},
     "output_type": "execute_result"
    }
   ],
   "source": [
    "df.groupby('contact').mean(numeric_only=True)"
   ]
  },
  {
   "cell_type": "code",
   "execution_count": 15,
   "id": "4dab6fec",
   "metadata": {
    "ExecuteTime": {
     "end_time": "2023-05-04T21:58:50.863619Z",
     "start_time": "2023-05-04T21:58:50.851882Z"
    }
   },
   "outputs": [
    {
     "data": {
      "text/html": [
       "<div>\n",
       "<style scoped>\n",
       "    .dataframe tbody tr th:only-of-type {\n",
       "        vertical-align: middle;\n",
       "    }\n",
       "\n",
       "    .dataframe tbody tr th {\n",
       "        vertical-align: top;\n",
       "    }\n",
       "\n",
       "    .dataframe thead th {\n",
       "        text-align: right;\n",
       "    }\n",
       "</style>\n",
       "<table border=\"1\" class=\"dataframe\">\n",
       "  <thead>\n",
       "    <tr style=\"text-align: right;\">\n",
       "      <th></th>\n",
       "      <th>age</th>\n",
       "      <th>default</th>\n",
       "      <th>balance</th>\n",
       "      <th>housing</th>\n",
       "      <th>loan</th>\n",
       "      <th>day</th>\n",
       "      <th>duration</th>\n",
       "      <th>campaign</th>\n",
       "      <th>pdays</th>\n",
       "      <th>previous</th>\n",
       "      <th>y</th>\n",
       "    </tr>\n",
       "    <tr>\n",
       "      <th>month</th>\n",
       "      <th></th>\n",
       "      <th></th>\n",
       "      <th></th>\n",
       "      <th></th>\n",
       "      <th></th>\n",
       "      <th></th>\n",
       "      <th></th>\n",
       "      <th></th>\n",
       "      <th></th>\n",
       "      <th></th>\n",
       "      <th></th>\n",
       "    </tr>\n",
       "  </thead>\n",
       "  <tbody>\n",
       "    <tr>\n",
       "      <th>apr</th>\n",
       "      <td>39.770805</td>\n",
       "      <td>0.003752</td>\n",
       "      <td>1542.551160</td>\n",
       "      <td>0.705662</td>\n",
       "      <td>0.122101</td>\n",
       "      <td>17.317190</td>\n",
       "      <td>298.098909</td>\n",
       "      <td>1.955321</td>\n",
       "      <td>95.201910</td>\n",
       "      <td>1.052524</td>\n",
       "      <td>0.196794</td>\n",
       "    </tr>\n",
       "    <tr>\n",
       "      <th>aug</th>\n",
       "      <td>42.894509</td>\n",
       "      <td>0.015527</td>\n",
       "      <td>1427.701777</td>\n",
       "      <td>0.176565</td>\n",
       "      <td>0.096686</td>\n",
       "      <td>16.432688</td>\n",
       "      <td>232.402113</td>\n",
       "      <td>3.927325</td>\n",
       "      <td>13.328958</td>\n",
       "      <td>0.278374</td>\n",
       "      <td>0.110133</td>\n",
       "    </tr>\n",
       "    <tr>\n",
       "      <th>dec</th>\n",
       "      <td>44.457944</td>\n",
       "      <td>0.000000</td>\n",
       "      <td>2315.672897</td>\n",
       "      <td>0.191589</td>\n",
       "      <td>0.051402</td>\n",
       "      <td>14.434579</td>\n",
       "      <td>329.327103</td>\n",
       "      <td>2.196262</td>\n",
       "      <td>108.780374</td>\n",
       "      <td>1.803738</td>\n",
       "      <td>0.467290</td>\n",
       "    </tr>\n",
       "    <tr>\n",
       "      <th>feb</th>\n",
       "      <td>40.885240</td>\n",
       "      <td>0.013213</td>\n",
       "      <td>1319.098905</td>\n",
       "      <td>0.427331</td>\n",
       "      <td>0.147225</td>\n",
       "      <td>6.354851</td>\n",
       "      <td>248.298226</td>\n",
       "      <td>2.382031</td>\n",
       "      <td>68.702907</td>\n",
       "      <td>1.182710</td>\n",
       "      <td>0.166478</td>\n",
       "    </tr>\n",
       "    <tr>\n",
       "      <th>jan</th>\n",
       "      <td>40.493229</td>\n",
       "      <td>0.012830</td>\n",
       "      <td>946.783321</td>\n",
       "      <td>0.371347</td>\n",
       "      <td>0.151105</td>\n",
       "      <td>27.456878</td>\n",
       "      <td>268.220242</td>\n",
       "      <td>1.672131</td>\n",
       "      <td>67.898076</td>\n",
       "      <td>1.185317</td>\n",
       "      <td>0.101212</td>\n",
       "    </tr>\n",
       "    <tr>\n",
       "      <th>jul</th>\n",
       "      <td>41.008847</td>\n",
       "      <td>0.031907</td>\n",
       "      <td>900.025526</td>\n",
       "      <td>0.484119</td>\n",
       "      <td>0.305294</td>\n",
       "      <td>18.694271</td>\n",
       "      <td>267.975344</td>\n",
       "      <td>3.524438</td>\n",
       "      <td>8.032342</td>\n",
       "      <td>0.129949</td>\n",
       "      <td>0.090935</td>\n",
       "    </tr>\n",
       "    <tr>\n",
       "      <th>jun</th>\n",
       "      <td>42.438120</td>\n",
       "      <td>0.020783</td>\n",
       "      <td>1608.222243</td>\n",
       "      <td>0.416963</td>\n",
       "      <td>0.137427</td>\n",
       "      <td>11.399551</td>\n",
       "      <td>243.087811</td>\n",
       "      <td>3.135368</td>\n",
       "      <td>9.154465</td>\n",
       "      <td>0.197903</td>\n",
       "      <td>0.102228</td>\n",
       "    </tr>\n",
       "    <tr>\n",
       "      <th>mar</th>\n",
       "      <td>42.941300</td>\n",
       "      <td>0.000000</td>\n",
       "      <td>2046.228512</td>\n",
       "      <td>0.236897</td>\n",
       "      <td>0.054507</td>\n",
       "      <td>14.134172</td>\n",
       "      <td>244.400419</td>\n",
       "      <td>2.205451</td>\n",
       "      <td>71.228512</td>\n",
       "      <td>1.188679</td>\n",
       "      <td>0.519916</td>\n",
       "    </tr>\n",
       "    <tr>\n",
       "      <th>may</th>\n",
       "      <td>38.891109</td>\n",
       "      <td>0.017434</td>\n",
       "      <td>1034.992590</td>\n",
       "      <td>0.877234</td>\n",
       "      <td>0.144777</td>\n",
       "      <td>15.491138</td>\n",
       "      <td>260.922272</td>\n",
       "      <td>2.447552</td>\n",
       "      <td>52.157344</td>\n",
       "      <td>0.584992</td>\n",
       "      <td>0.067195</td>\n",
       "    </tr>\n",
       "    <tr>\n",
       "      <th>nov</th>\n",
       "      <td>42.057935</td>\n",
       "      <td>0.020655</td>\n",
       "      <td>2512.932997</td>\n",
       "      <td>0.557683</td>\n",
       "      <td>0.182872</td>\n",
       "      <td>18.383627</td>\n",
       "      <td>253.148615</td>\n",
       "      <td>1.918136</td>\n",
       "      <td>42.744836</td>\n",
       "      <td>0.861461</td>\n",
       "      <td>0.101511</td>\n",
       "    </tr>\n",
       "    <tr>\n",
       "      <th>oct</th>\n",
       "      <td>45.891599</td>\n",
       "      <td>0.000000</td>\n",
       "      <td>2312.371274</td>\n",
       "      <td>0.226287</td>\n",
       "      <td>0.074526</td>\n",
       "      <td>17.777778</td>\n",
       "      <td>288.302168</td>\n",
       "      <td>1.536585</td>\n",
       "      <td>84.357724</td>\n",
       "      <td>1.544715</td>\n",
       "      <td>0.437669</td>\n",
       "    </tr>\n",
       "    <tr>\n",
       "      <th>sep</th>\n",
       "      <td>43.958549</td>\n",
       "      <td>0.001727</td>\n",
       "      <td>1948.291883</td>\n",
       "      <td>0.222798</td>\n",
       "      <td>0.051813</td>\n",
       "      <td>11.868739</td>\n",
       "      <td>292.252159</td>\n",
       "      <td>1.765112</td>\n",
       "      <td>114.417962</td>\n",
       "      <td>1.894646</td>\n",
       "      <td>0.464594</td>\n",
       "    </tr>\n",
       "  </tbody>\n",
       "</table>\n",
       "</div>"
      ],
      "text/plain": [
       "             age   default      balance   housing      loan        day  \\\n",
       "month                                                                    \n",
       "apr    39.770805  0.003752  1542.551160  0.705662  0.122101  17.317190   \n",
       "aug    42.894509  0.015527  1427.701777  0.176565  0.096686  16.432688   \n",
       "dec    44.457944  0.000000  2315.672897  0.191589  0.051402  14.434579   \n",
       "feb    40.885240  0.013213  1319.098905  0.427331  0.147225   6.354851   \n",
       "jan    40.493229  0.012830   946.783321  0.371347  0.151105  27.456878   \n",
       "jul    41.008847  0.031907   900.025526  0.484119  0.305294  18.694271   \n",
       "jun    42.438120  0.020783  1608.222243  0.416963  0.137427  11.399551   \n",
       "mar    42.941300  0.000000  2046.228512  0.236897  0.054507  14.134172   \n",
       "may    38.891109  0.017434  1034.992590  0.877234  0.144777  15.491138   \n",
       "nov    42.057935  0.020655  2512.932997  0.557683  0.182872  18.383627   \n",
       "oct    45.891599  0.000000  2312.371274  0.226287  0.074526  17.777778   \n",
       "sep    43.958549  0.001727  1948.291883  0.222798  0.051813  11.868739   \n",
       "\n",
       "         duration  campaign       pdays  previous         y  \n",
       "month                                                        \n",
       "apr    298.098909  1.955321   95.201910  1.052524  0.196794  \n",
       "aug    232.402113  3.927325   13.328958  0.278374  0.110133  \n",
       "dec    329.327103  2.196262  108.780374  1.803738  0.467290  \n",
       "feb    248.298226  2.382031   68.702907  1.182710  0.166478  \n",
       "jan    268.220242  1.672131   67.898076  1.185317  0.101212  \n",
       "jul    267.975344  3.524438    8.032342  0.129949  0.090935  \n",
       "jun    243.087811  3.135368    9.154465  0.197903  0.102228  \n",
       "mar    244.400419  2.205451   71.228512  1.188679  0.519916  \n",
       "may    260.922272  2.447552   52.157344  0.584992  0.067195  \n",
       "nov    253.148615  1.918136   42.744836  0.861461  0.101511  \n",
       "oct    288.302168  1.536585   84.357724  1.544715  0.437669  \n",
       "sep    292.252159  1.765112  114.417962  1.894646  0.464594  "
      ]
     },
     "execution_count": 15,
     "metadata": {},
     "output_type": "execute_result"
    }
   ],
   "source": [
    "df.groupby('month').mean(numeric_only=True)"
   ]
  },
  {
   "cell_type": "code",
   "execution_count": 16,
   "id": "8819839f",
   "metadata": {
    "ExecuteTime": {
     "end_time": "2023-05-04T21:58:50.874529Z",
     "start_time": "2023-05-04T21:58:50.864550Z"
    }
   },
   "outputs": [
    {
     "data": {
      "text/html": [
       "<div>\n",
       "<style scoped>\n",
       "    .dataframe tbody tr th:only-of-type {\n",
       "        vertical-align: middle;\n",
       "    }\n",
       "\n",
       "    .dataframe tbody tr th {\n",
       "        vertical-align: top;\n",
       "    }\n",
       "\n",
       "    .dataframe thead th {\n",
       "        text-align: right;\n",
       "    }\n",
       "</style>\n",
       "<table border=\"1\" class=\"dataframe\">\n",
       "  <thead>\n",
       "    <tr style=\"text-align: right;\">\n",
       "      <th></th>\n",
       "      <th>age</th>\n",
       "      <th>default</th>\n",
       "      <th>balance</th>\n",
       "      <th>housing</th>\n",
       "      <th>loan</th>\n",
       "      <th>day</th>\n",
       "      <th>duration</th>\n",
       "      <th>campaign</th>\n",
       "      <th>pdays</th>\n",
       "      <th>previous</th>\n",
       "      <th>y</th>\n",
       "    </tr>\n",
       "    <tr>\n",
       "      <th>poutcome</th>\n",
       "      <th></th>\n",
       "      <th></th>\n",
       "      <th></th>\n",
       "      <th></th>\n",
       "      <th></th>\n",
       "      <th></th>\n",
       "      <th></th>\n",
       "      <th></th>\n",
       "      <th></th>\n",
       "      <th></th>\n",
       "      <th></th>\n",
       "    </tr>\n",
       "  </thead>\n",
       "  <tbody>\n",
       "    <tr>\n",
       "      <th>failure</th>\n",
       "      <td>40.786166</td>\n",
       "      <td>0.007958</td>\n",
       "      <td>1465.805550</td>\n",
       "      <td>0.708019</td>\n",
       "      <td>0.157927</td>\n",
       "      <td>14.166701</td>\n",
       "      <td>244.185880</td>\n",
       "      <td>1.980820</td>\n",
       "      <td>241.509284</td>\n",
       "      <td>2.896552</td>\n",
       "      <td>0.126097</td>\n",
       "    </tr>\n",
       "    <tr>\n",
       "      <th>other</th>\n",
       "      <td>39.752174</td>\n",
       "      <td>0.008696</td>\n",
       "      <td>1487.411413</td>\n",
       "      <td>0.651630</td>\n",
       "      <td>0.144022</td>\n",
       "      <td>14.475000</td>\n",
       "      <td>255.715217</td>\n",
       "      <td>2.461413</td>\n",
       "      <td>229.683696</td>\n",
       "      <td>4.009239</td>\n",
       "      <td>0.166848</td>\n",
       "    </tr>\n",
       "    <tr>\n",
       "      <th>success</th>\n",
       "      <td>42.964924</td>\n",
       "      <td>0.001324</td>\n",
       "      <td>1939.301125</td>\n",
       "      <td>0.311714</td>\n",
       "      <td>0.054269</td>\n",
       "      <td>14.449371</td>\n",
       "      <td>316.868961</td>\n",
       "      <td>1.806089</td>\n",
       "      <td>163.259431</td>\n",
       "      <td>3.075447</td>\n",
       "      <td>0.647253</td>\n",
       "    </tr>\n",
       "    <tr>\n",
       "      <th>unknown</th>\n",
       "      <td>40.932114</td>\n",
       "      <td>0.020509</td>\n",
       "      <td>1318.722043</td>\n",
       "      <td>0.540870</td>\n",
       "      <td>0.165670</td>\n",
       "      <td>16.145621</td>\n",
       "      <td>257.738332</td>\n",
       "      <td>2.921886</td>\n",
       "      <td>-0.962039</td>\n",
       "      <td>0.000460</td>\n",
       "      <td>0.091615</td>\n",
       "    </tr>\n",
       "  </tbody>\n",
       "</table>\n",
       "</div>"
      ],
      "text/plain": [
       "                age   default      balance   housing      loan        day  \\\n",
       "poutcome                                                                    \n",
       "failure   40.786166  0.007958  1465.805550  0.708019  0.157927  14.166701   \n",
       "other     39.752174  0.008696  1487.411413  0.651630  0.144022  14.475000   \n",
       "success   42.964924  0.001324  1939.301125  0.311714  0.054269  14.449371   \n",
       "unknown   40.932114  0.020509  1318.722043  0.540870  0.165670  16.145621   \n",
       "\n",
       "            duration  campaign       pdays  previous         y  \n",
       "poutcome                                                        \n",
       "failure   244.185880  1.980820  241.509284  2.896552  0.126097  \n",
       "other     255.715217  2.461413  229.683696  4.009239  0.166848  \n",
       "success   316.868961  1.806089  163.259431  3.075447  0.647253  \n",
       "unknown   257.738332  2.921886   -0.962039  0.000460  0.091615  "
      ]
     },
     "execution_count": 16,
     "metadata": {},
     "output_type": "execute_result"
    }
   ],
   "source": [
    "df.groupby('poutcome').mean(numeric_only=True)"
   ]
  },
  {
   "cell_type": "code",
   "execution_count": 17,
   "id": "b1d44342",
   "metadata": {
    "ExecuteTime": {
     "end_time": "2023-05-04T21:58:51.027293Z",
     "start_time": "2023-05-04T21:58:50.875522Z"
    }
   },
   "outputs": [
    {
     "data": {
      "text/plain": [
       "Text(0, 0.5, 'Frequency of Purchase')"
      ]
     },
     "execution_count": 17,
     "metadata": {},
     "output_type": "execute_result"
    },
    {
     "data": {
      "image/png": "[encoded data removed]",
      "text/plain": [
       "<Figure size 640x480 with 1 Axes>"
      ]
     },
     "metadata": {},
     "output_type": "display_data"
    }
   ],
   "source": [
    "pd.crosstab(df.job,df.y).plot(kind='bar')\n",
    "plt.title('Purchase Frequency for Job Title')\n",
    "plt.xlabel('Job')\n",
    "plt.ylabel('Frequency of Purchase')\n",
    "#plt.savefig('purchase_fre_job')"
   ]
  },
  {
   "cell_type": "code",
   "execution_count": 18,
   "id": "1cfc36c8",
   "metadata": {
    "ExecuteTime": {
     "end_time": "2023-05-04T21:58:51.135578Z",
     "start_time": "2023-05-04T21:58:51.028780Z"
    }
   },
   "outputs": [
    {
     "data": {
      "text/plain": [
       "Text(0, 0.5, 'Proportion of Customers')"
      ]
     },
     "execution_count": 18,
     "metadata": {},
     "output_type": "execute_result"
    },
    {
     "data": {
      "image/png": "[encoded data removed]",
      "text/plain": [
       "<Figure size 640x480 with 1 Axes>"
      ]
     },
     "metadata": {},
     "output_type": "display_data"
    }
   ],
   "source": [
    "table=pd.crosstab(df.marital,df.y)\n",
    "table.div(table.sum(1).astype(float), axis=0).plot(kind='bar', stacked=True)\n",
    "plt.title('Stacked Bar Chart of Marital Status vs Purchase')\n",
    "plt.xlabel('Marital Status')\n",
    "plt.ylabel('Proportion of Customers')\n",
    "#plt.savefig('marital_vs_pur_stack')"
   ]
  },
  {
   "cell_type": "code",
   "execution_count": 19,
   "id": "7eff8236",
   "metadata": {
    "ExecuteTime": {
     "end_time": "2023-05-04T21:58:51.248942Z",
     "start_time": "2023-05-04T21:58:51.137217Z"
    }
   },
   "outputs": [
    {
     "data": {
      "text/plain": [
       "Text(0, 0.5, 'Proportion of Customers')"
      ]
     },
     "execution_count": 19,
     "metadata": {},
     "output_type": "execute_result"
    },
    {
     "data": {
      "image/png": "[encoded data removed]",
      "text/plain": [
       "<Figure size 640x480 with 1 Axes>"
      ]
     },
     "metadata": {},
     "output_type": "display_data"
    }
   ],
   "source": [
    "table=pd.crosstab(df.education,df.y)\n",
    "table.div(table.sum(1).astype(float), axis=0).plot(kind='bar', stacked=True)\n",
    "plt.title('Stacked Bar Chart of Education vs Purchase')\n",
    "plt.xlabel('Education')\n",
    "plt.ylabel('Proportion of Customers')\n",
    "#plt.savefig('edu_vs_pur_stack')"
   ]
  },
  {
   "cell_type": "code",
   "execution_count": 20,
   "id": "fad8efca",
   "metadata": {
    "ExecuteTime": {
     "end_time": "2023-05-04T21:58:51.352714Z",
     "start_time": "2023-05-04T21:58:51.250447Z"
    }
   },
   "outputs": [
    {
     "data": {
      "text/plain": [
       "Text(0, 0.5, 'Frequency of Purchase')"
      ]
     },
     "execution_count": 20,
     "metadata": {},
     "output_type": "execute_result"
    },
    {
     "data": {
      "image/png": "[encoded data removed]",
      "text/plain": [
       "<Figure size 640x480 with 1 Axes>"
      ]
     },
     "metadata": {},
     "output_type": "display_data"
    }
   ],
   "source": [
    "pd.crosstab(df.contact,df.y).plot(kind='bar')\n",
    "plt.title('Purchase Frequency for Contact')\n",
    "plt.xlabel('Contact')\n",
    "plt.ylabel('Frequency of Purchase')\n",
    "#plt.savefig('pur_contact_bar')"
   ]
  },
  {
   "cell_type": "code",
   "execution_count": 21,
   "id": "3349fc7f",
   "metadata": {
    "ExecuteTime": {
     "end_time": "2023-05-04T21:58:51.487801Z",
     "start_time": "2023-05-04T21:58:51.354346Z"
    }
   },
   "outputs": [
    {
     "data": {
      "text/plain": [
       "Text(0, 0.5, 'Frequency of Purchase')"
      ]
     },
     "execution_count": 21,
     "metadata": {},
     "output_type": "execute_result"
    },
    {
     "data": {
      "image/png": "[encoded data removed]",
      "text/plain": [
       "<Figure size 640x480 with 1 Axes>"
      ]
     },
     "metadata": {},
     "output_type": "display_data"
    }
   ],
   "source": [
    "pd.crosstab(df.month,df.y).plot(kind='bar')\n",
    "plt.title('Purchase Frequency for Month')\n",
    "plt.xlabel('Month')\n",
    "plt.ylabel('Frequency of Purchase')\n",
    "#plt.savefig('pur_fre_month_bar')"
   ]
  },
  {
   "cell_type": "code",
   "execution_count": 22,
   "id": "5e7fb6e3",
   "metadata": {
    "ExecuteTime": {
     "end_time": "2023-05-04T21:58:51.588774Z",
     "start_time": "2023-05-04T21:58:51.488750Z"
    }
   },
   "outputs": [
    {
     "data": {
      "text/plain": [
       "Text(0, 0.5, 'Frequency')"
      ]
     },
     "execution_count": 22,
     "metadata": {},
     "output_type": "execute_result"
    },
    {
     "data": {
      "image/png": "[encoded data removed]",
      "text/plain": [
       "<Figure size 640x480 with 1 Axes>"
      ]
     },
     "metadata": {},
     "output_type": "display_data"
    }
   ],
   "source": [
    "df.age.hist()\n",
    "plt.title('Histogram of Age')\n",
    "plt.xlabel('Age')\n",
    "plt.ylabel('Frequency')\n",
    "#plt.savefig('hist_age')"
   ]
  },
  {
   "cell_type": "code",
   "execution_count": 23,
   "id": "70edbc36",
   "metadata": {
    "ExecuteTime": {
     "end_time": "2023-05-04T21:58:51.701338Z",
     "start_time": "2023-05-04T21:58:51.589966Z"
    }
   },
   "outputs": [
    {
     "data": {
      "text/plain": [
       "Text(0, 0.5, 'Frequency of Purchase')"
      ]
     },
     "execution_count": 23,
     "metadata": {},
     "output_type": "execute_result"
    },
    {
     "data": {
      "image/png": "[encoded data removed]",
      "text/plain": [
       "<Figure size 640x480 with 1 Axes>"
      ]
     },
     "metadata": {},
     "output_type": "display_data"
    }
   ],
   "source": [
    "pd.crosstab(df.poutcome,df.y).plot(kind='bar')\n",
    "plt.title('Purchase Frequency for Poutcome')\n",
    "plt.xlabel('Poutcome')\n",
    "plt.ylabel('Frequency of Purchase')\n",
    "#plt.savefig('pur_fre_pout_bar')"
   ]
  },
  {
   "cell_type": "markdown",
   "id": "3617fa62",
   "metadata": {},
   "source": [
    "### Create Dummy Variables"
   ]
  },
  {
   "cell_type": "code",
   "execution_count": 24,
   "id": "c5669b4c",
   "metadata": {
    "ExecuteTime": {
     "end_time": "2023-05-04T21:58:51.784144Z",
     "start_time": "2023-05-04T21:58:51.702536Z"
    }
   },
   "outputs": [
    {
     "data": {
      "text/plain": [
       "array(['age', 'default', 'balance', 'housing', 'loan', 'day', 'duration',\n",
       "       'campaign', 'pdays', 'previous', 'y', 'job_admin.',\n",
       "       'job_blue-collar', 'job_entrepreneur', 'job_housemaid',\n",
       "       'job_management', 'job_retired', 'job_self-employed',\n",
       "       'job_services', 'job_student', 'job_technician', 'job_unemployed',\n",
       "       'job_unknown', 'marital_divorced', 'marital_married',\n",
       "       'marital_single', 'education_primary', 'education_secondary',\n",
       "       'education_tertiary', 'education_unknown', 'contact_cellular',\n",
       "       'contact_telephone', 'contact_unknown', 'month_apr', 'month_aug',\n",
       "       'month_dec', 'month_feb', 'month_jan', 'month_jul', 'month_jun',\n",
       "       'month_mar', 'month_may', 'month_nov', 'month_oct', 'month_sep',\n",
       "       'poutcome_failure', 'poutcome_other', 'poutcome_success',\n",
       "       'poutcome_unknown'], dtype=object)"
      ]
     },
     "execution_count": 24,
     "metadata": {},
     "output_type": "execute_result"
    }
   ],
   "source": [
    "# These columns contains values of type object\n",
    "# Values of each column are Nominal\n",
    "cols_vars=['job','marital','education','contact','month','poutcome']\n",
    "for var in cols_vars:\n",
    "    new_cols='var'+'_'+var\n",
    "    new_cols=pd.get_dummies(df[var], prefix=var)\n",
    "    df1=df.join(new_cols) # Don't do it more than once\n",
    "    df=df1\n",
    "\n",
    "df_vars=df.columns.values.tolist()\n",
    "to_keep=[i for i in df_vars if i not in cols_vars] # Delete cols_vars in columns\n",
    "\n",
    "df_final=df[to_keep]\n",
    "df_final.columns.values # The current columns any column with prefix is a dummy variable"
   ]
  },
  {
   "cell_type": "code",
   "execution_count": 39,
   "id": "178be54d",
   "metadata": {
    "ExecuteTime": {
     "end_time": "2023-05-04T22:03:49.671187Z",
     "start_time": "2023-05-04T22:03:49.417957Z"
    }
   },
   "outputs": [
    {
     "name": "stdout",
     "output_type": "stream",
     "text": [
      "<class 'pandas.core.frame.DataFrame'>\n",
      "RangeIndex: 45211 entries, 0 to 45210\n",
      "Data columns (total 49 columns):\n",
      " #   Column               Non-Null Count  Dtype\n",
      "---  ------               --------------  -----\n",
      " 0   age                  45211 non-null  int64\n",
      " 1   default              45211 non-null  int64\n",
      " 2   balance              45211 non-null  int64\n",
      " 3   housing              45211 non-null  int64\n",
      " 4   loan                 45211 non-null  int64\n",
      " 5   day                  45211 non-null  int64\n",
      " 6   duration             45211 non-null  int64\n",
      " 7   campaign             45211 non-null  int64\n",
      " 8   pdays                45211 non-null  int64\n",
      " 9   previous             45211 non-null  int64\n",
      " 10  y                    45211 non-null  int64\n",
      " 11  job_admin.           45211 non-null  uint8\n",
      " 12  job_blue-collar      45211 non-null  uint8\n",
      " 13  job_entrepreneur     45211 non-null  uint8\n",
      " 14  job_housemaid        45211 non-null  uint8\n",
      " 15  job_management       45211 non-null  uint8\n",
      " 16  job_retired          45211 non-null  uint8\n",
      " 17  job_self-employed    45211 non-null  uint8\n",
      " 18  job_services         45211 non-null  uint8\n",
      " 19  job_student          45211 non-null  uint8\n",
      " 20  job_technician       45211 non-null  uint8\n",
      " 21  job_unemployed       45211 non-null  uint8\n",
      " 22  job_unknown          45211 non-null  uint8\n",
      " 23  marital_divorced     45211 non-null  uint8\n",
      " 24  marital_married      45211 non-null  uint8\n",
      " 25  marital_single       45211 non-null  uint8\n",
      " 26  education_primary    45211 non-null  uint8\n",
      " 27  education_secondary  45211 non-null  uint8\n",
      " 28  education_tertiary   45211 non-null  uint8\n",
      " 29  education_unknown    45211 non-null  uint8\n",
      " 30  contact_cellular     45211 non-null  uint8\n",
      " 31  contact_telephone    45211 non-null  uint8\n",
      " 32  contact_unknown      45211 non-null  uint8\n",
      " 33  month_apr            45211 non-null  uint8\n",
      " 34  month_aug            45211 non-null  uint8\n",
      " 35  month_dec            45211 non-null  uint8\n",
      " 36  month_feb            45211 non-null  uint8\n",
      " 37  month_jan            45211 non-null  uint8\n",
      " 38  month_jul            45211 non-null  uint8\n",
      " 39  month_jun            45211 non-null  uint8\n",
      " 40  month_mar            45211 non-null  uint8\n",
      " 41  month_may            45211 non-null  uint8\n",
      " 42  month_nov            45211 non-null  uint8\n",
      " 43  month_oct            45211 non-null  uint8\n",
      " 44  month_sep            45211 non-null  uint8\n",
      " 45  poutcome_failure     45211 non-null  uint8\n",
      " 46  poutcome_other       45211 non-null  uint8\n",
      " 47  poutcome_success     45211 non-null  uint8\n",
      " 48  poutcome_unknown     45211 non-null  uint8\n",
      "dtypes: int64(11), uint8(38)\n",
      "memory usage: 5.4 MB\n"
     ]
    }
   ],
   "source": [
    "df_final.info()\n",
    "#print(df_final.head())\n",
    "df_final.to_csv('new_bank.csv', sep='\\t', encoding='utf-8')"
   ]
  },
  {
   "cell_type": "code",
   "execution_count": 57,
   "id": "54f1671d",
   "metadata": {
    "ExecuteTime": {
     "end_time": "2023-05-04T22:21:10.230004Z",
     "start_time": "2023-05-04T22:21:10.217721Z"
    }
   },
   "outputs": [
    {
     "name": "stdout",
     "output_type": "stream",
     "text": [
      "(45211, 49)\n",
      "(45211, 48)\n",
      "(45211,)\n",
      "Index(['age', 'default', 'balance', 'housing', 'loan', 'day', 'duration',\n",
      "       'campaign', 'pdays', 'previous', 'job_admin.', 'job_blue-collar',\n",
      "       'job_entrepreneur', 'job_housemaid', 'job_management', 'job_retired',\n",
      "       'job_self-employed', 'job_services', 'job_student', 'job_technician',\n",
      "       'job_unemployed', 'job_unknown', 'marital_divorced', 'marital_married',\n",
      "       'marital_single', 'education_primary', 'education_secondary',\n",
      "       'education_tertiary', 'education_unknown', 'contact_cellular',\n",
      "       'contact_telephone', 'contact_unknown', 'month_apr', 'month_aug',\n",
      "       'month_dec', 'month_feb', 'month_jan', 'month_jul', 'month_jun',\n",
      "       'month_mar', 'month_may', 'month_nov', 'month_oct', 'month_sep',\n",
      "       'poutcome_failure', 'poutcome_other', 'poutcome_success',\n",
      "       'poutcome_unknown'],\n",
      "      dtype='object')\n"
     ]
    }
   ],
   "source": [
    "# X represent the independent variables\n",
    "# y represent the dependent varibale 'y'\n",
    "df_temp = df_final\n",
    "y = df_final['y']\n",
    "X = df_temp.drop(['y'], axis=1)\n",
    "print(df_final.shape)\n",
    "print(X.shape)\n",
    "print(y.shape)"
   ]
  },
  {
   "cell_type": "markdown",
   "id": "5c7b6312",
   "metadata": {},
   "source": [
    "### Scaling Dataset Independent Variables (IVs)"
   ]
  },
  {
   "cell_type": "code",
   "execution_count": 26,
   "id": "84fac33e",
   "metadata": {
    "ExecuteTime": {
     "end_time": "2023-05-04T21:58:52.379529Z",
     "start_time": "2023-05-04T21:58:52.019158Z"
    }
   },
   "outputs": [
    {
     "name": "stdout",
     "output_type": "stream",
     "text": [
      "(45211, 49)\n",
      "(45211, 48)\n",
      "(45211,)\n",
      "45211\n",
      "24.928057865050523\n"
     ]
    },
    {
     "data": {
      "image/png": "[encoded data removed]",
      "text/plain": [
       "<Figure size 640x480 with 1 Axes>"
      ]
     },
     "metadata": {},
     "output_type": "display_data"
    }
   ],
   "source": [
    "# Scaling Dataset Independent Variables\n",
    "# Standardizing\n",
    "# Dealing with the Outliers\n",
    "scalingObj= StandardScaler()\n",
    "array_scaled=scalingObj.fit_transform(X)\n",
    "#print(array_scaled)\n",
    "rowsToKeep = array_scaled[:,9] <30\n",
    "print(len(rowsToKeep))\n",
    "array_scaled = array_scaled[rowsToKeep]\n",
    "y = y[rowsToKeep]\n",
    "print(max(array_scaled[:,9]))\n",
    "plt.boxplot(array_scaled)\n",
    "plt.show()"
   ]
  },
  {
   "cell_type": "markdown",
   "id": "90ad15e5",
   "metadata": {},
   "source": [
    "### Feature Selection\n",
    "Failed to do the feature selection using RFECV at this stage, execution time was too long to get the result."
   ]
  },
  {
   "cell_type": "code",
   "execution_count": 27,
   "id": "681dda23",
   "metadata": {
    "ExecuteTime": {
     "end_time": "2023-05-04T21:58:52.382273Z",
     "start_time": "2023-05-04T21:58:52.380670Z"
    }
   },
   "outputs": [],
   "source": [
    "# Feature Selection\n",
    "#from sklearn.feature_selection import RFECV\n",
    "#from sklearn.ensemble import RandomForestClassifier\n",
    "\n",
    "#rfc = RandomForestClassifier()\n",
    "\n",
    "#select = RFECV(estimator=rfc, cv=10)\n",
    "#select = select.fit(array_scaled,y)\n",
    " \n",
    "#print(\"Feature ranking: \", select.ranking_)\n"
   ]
  },
  {
   "cell_type": "markdown",
   "id": "1cfb464c",
   "metadata": {},
   "source": [
    "### Dimensionality Reduction \n",
    "Principal Component Analysis (PCA)"
   ]
  },
  {
   "cell_type": "code",
   "execution_count": 28,
   "id": "a29c3444",
   "metadata": {
    "ExecuteTime": {
     "end_time": "2023-05-04T21:59:06.924923Z",
     "start_time": "2023-05-04T21:58:52.383329Z"
    }
   },
   "outputs": [
    {
     "name": "stdout",
     "output_type": "stream",
     "text": [
      "Original Accuracy 0.635633709356337\n",
      "Explained Variance: 0.6520661959371196\n",
      "Accuracy after PCA: 0.6889626188896261\n"
     ]
    }
   ],
   "source": [
    "# Using DecisionTreeClassifier to classify features\n",
    "clf= tree.DecisionTreeClassifier()\n",
    "scores = model_selection.cross_val_score(clf, array_scaled, y, cv=10)\n",
    "print('Original Accuracy', np.mean(scores))\n",
    "\n",
    "pca = decomposition.PCA(n_components = 20)# Principal Component Analysis\n",
    "principalComponents = pca.fit_transform(array_scaled)\n",
    "#print(type(principalComponents))\n",
    "print('Explained Variance:', np.sum(pca.explained_variance_ratio_))\n",
    "\n",
    "clf = tree.DecisionTreeClassifier()\n",
    "scores=model_selection.cross_val_score(clf, principalComponents, y, cv=10)\n",
    "print('Accuracy after PCA:', np.mean(scores))"
   ]
  },
  {
   "cell_type": "code",
   "execution_count": 29,
   "id": "8a66179f",
   "metadata": {
    "ExecuteTime": {
     "end_time": "2023-05-04T21:59:06.928347Z",
     "start_time": "2023-05-04T21:59:06.926031Z"
    }
   },
   "outputs": [],
   "source": [
    "df_columns=['pc'+str(i+1) for i in range(20)]\n",
    "df_principal = pd.DataFrame(data = principalComponents\n",
    "             , columns = df_columns)"
   ]
  },
  {
   "cell_type": "code",
   "execution_count": 30,
   "id": "4b2f2b47",
   "metadata": {
    "ExecuteTime": {
     "end_time": "2023-05-04T21:59:07.719801Z",
     "start_time": "2023-05-04T21:59:06.929467Z"
    }
   },
   "outputs": [],
   "source": [
    "df_pc_final = pd.concat([df_principal, df_final[['y']]], axis = 1)\n",
    "df_pc_final.to_csv('pc_bank.csv', sep='\\t', encoding='utf-8')"
   ]
  },
  {
   "cell_type": "markdown",
   "id": "6dec35ea",
   "metadata": {},
   "source": [
    "## Build Model\n",
    "### Split Dataset to Training and Test sets"
   ]
  },
  {
   "cell_type": "code",
   "execution_count": 31,
   "id": "f09c3963",
   "metadata": {
    "ExecuteTime": {
     "end_time": "2023-05-04T21:59:07.728264Z",
     "start_time": "2023-05-04T21:59:07.721019Z"
    }
   },
   "outputs": [
    {
     "name": "stdout",
     "output_type": "stream",
     "text": [
      "Training IV shape:  (36168, 20)\n",
      "Training DV shape:  (36168,)\n",
      "Test IV shape:  (9042, 20)\n",
      "Test DV shape:  (9042,)\n"
     ]
    }
   ],
   "source": [
    "X_train, X_test, y_train, y_test = train_test_split(df_principal, y, test_size=0.2, random_state=0)\n",
    "print(\"Training IV shape: \",X_train.shape) # Independent Variable\n",
    "print(\"Training DV shape: \", y_train.shape) # Dependent Variable\n",
    "print(\"Test IV shape: \", X_test.shape)\n",
    "print(\"Test DV shape: \", y_test.shape)"
   ]
  },
  {
   "cell_type": "markdown",
   "id": "0c9b8ebb",
   "metadata": {},
   "source": [
    "### Training Data with Logistical Regression Model"
   ]
  },
  {
   "cell_type": "code",
   "execution_count": 111,
   "id": "f9af2389",
   "metadata": {
    "ExecuteTime": {
     "end_time": "2023-05-05T00:55:18.084791Z",
     "start_time": "2023-05-05T00:55:18.037538Z"
    }
   },
   "outputs": [
    {
     "name": "stdout",
     "output_type": "stream",
     "text": [
      "Accuracy: 0.8905\n"
     ]
    }
   ],
   "source": [
    "reg_Log = LogisticRegression()\n",
    "reg_Log.fit(X_train, y_train)\n",
    "y_pred = reg_Log.predict(X_test)\n",
    "print('Accuracy: {:.4f}'.format(reg_Log.score(X_test, y_test)))"
   ]
  },
  {
   "cell_type": "markdown",
   "id": "2d64407c",
   "metadata": {},
   "source": [
    "### Evaluation Training Result with Confusion Matrix"
   ]
  },
  {
   "cell_type": "code",
   "execution_count": 92,
   "id": "79918688",
   "metadata": {
    "ExecuteTime": {
     "end_time": "2023-05-04T22:56:56.123431Z",
     "start_time": "2023-05-04T22:56:56.113156Z"
    }
   },
   "outputs": [
    {
     "name": "stdout",
     "output_type": "stream",
     "text": [
      "[[7786  183]\n",
      " [ 807  266]]\n"
     ]
    }
   ],
   "source": [
    "#from sklearn.metrics import confusion_matrix\n",
    "confusion_matrix = confusion_matrix(y_test, y_pred)\n",
    "print(confusion_matrix)"
   ]
  },
  {
   "cell_type": "code",
   "execution_count": 91,
   "id": "bdca069d",
   "metadata": {
    "ExecuteTime": {
     "end_time": "2023-05-04T22:56:53.916709Z",
     "start_time": "2023-05-04T22:56:53.896254Z"
    }
   },
   "outputs": [
    {
     "name": "stdout",
     "output_type": "stream",
     "text": [
      "              precision    recall  f1-score   support\n",
      "\n",
      "           0       0.91      0.98      0.94      7969\n",
      "           1       0.59      0.25      0.35      1073\n",
      "\n",
      "    accuracy                           0.89      9042\n",
      "   macro avg       0.75      0.61      0.64      9042\n",
      "weighted avg       0.87      0.89      0.87      9042\n",
      "\n"
     ]
    }
   ],
   "source": [
    "#from sklearn.metrics import classification_report\n",
    "# The evaluation after PCA\n",
    "print(classification_report(y_test, y_pred))"
   ]
  },
  {
   "cell_type": "markdown",
   "id": "1bc83b03",
   "metadata": {},
   "source": [
    "### Build Logistical Regression Model on Training Set before PCA"
   ]
  },
  {
   "cell_type": "code",
   "execution_count": 110,
   "id": "2676f25d",
   "metadata": {
    "ExecuteTime": {
     "end_time": "2023-05-05T00:55:02.282805Z",
     "start_time": "2023-05-05T00:55:02.199431Z"
    }
   },
   "outputs": [
    {
     "name": "stdout",
     "output_type": "stream",
     "text": [
      "Training IV shape:  (36168, 48)\n",
      "Training DV shape:  (36168,)\n",
      "Test IV shape:  (9043, 48)\n",
      "Test DV shape:  (9043,)\n",
      "Accuracy: 0.8985\n"
     ]
    }
   ],
   "source": [
    "X_train_LR, X_test_LR, y_train_LR, y_test_LR = train_test_split(X, y, test_size=0.2, random_state=0)\n",
    "print(\"Training IV shape: \",X_train_LR.shape) # Independent Variable\n",
    "print(\"Training DV shape: \", y_train_LR.shape) # Dependent Variable\n",
    "print(\"Test IV shape: \", X_test_LR.shape)\n",
    "print(\"Test DV shape: \", y_test_LR.shape)\n",
    "reg = LogisticRegression()\n",
    "reg.fit(X_train_LR, y_train_LR)\n",
    "y_pred_LR = reg.predict(X_test_LR)\n",
    "print(\"Accuracy: {:.4f}\".format(metrics.accuracy_score(y_test_LR, y_pred_LR)))"
   ]
  },
  {
   "cell_type": "code",
   "execution_count": 114,
   "id": "2168d5cb",
   "metadata": {
    "ExecuteTime": {
     "end_time": "2023-05-05T01:03:01.284169Z",
     "start_time": "2023-05-05T01:03:01.260306Z"
    }
   },
   "outputs": [
    {
     "name": "stdout",
     "output_type": "stream",
     "text": [
      "              precision    recall  f1-score   support\n",
      "\n",
      "           0       0.92      0.97      0.94      7980\n",
      "           1       0.62      0.35      0.45      1063\n",
      "\n",
      "    accuracy                           0.90      9043\n",
      "   macro avg       0.77      0.66      0.70      9043\n",
      "weighted avg       0.88      0.90      0.89      9043\n",
      "\n"
     ]
    }
   ],
   "source": [
    "# The evaluation before PCA\n",
    "print(classification_report(y_test_LR, y_pred_LR))"
   ]
  },
  {
   "cell_type": "markdown",
   "id": "75425b83",
   "metadata": {},
   "source": [
    "### Create Receiver operating characteristic (ROC) Plot"
   ]
  },
  {
   "cell_type": "code",
   "execution_count": 100,
   "id": "f3900b22",
   "metadata": {
    "ExecuteTime": {
     "end_time": "2023-05-04T23:09:59.799486Z",
     "start_time": "2023-05-04T23:09:59.597656Z"
    }
   },
   "outputs": [
    {
     "data": {
      "image/png": "[encoded data removed]",
      "text/plain": [
       "<Figure size 640x480 with 1 Axes>"
      ]
     },
     "metadata": {},
     "output_type": "display_data"
    },
    {
     "data": {
      "image/png": "[encoded data removed]",
      "text/plain": [
       "<Figure size 640x480 with 1 Axes>"
      ]
     },
     "metadata": {},
     "output_type": "display_data"
    }
   ],
   "source": [
    "def roc(y_test, model, X_test):\n",
    "    logit_roc_auc = roc_auc_score(y_test, model.predict(X_test))\n",
    "    fpr, tpr, thresholds = roc_curve(y_test, model.predict_proba(X_test)[:,1])\n",
    "    plt.figure()\n",
    "    plt.plot(fpr, tpr, label='Logistic Regression (area = %0.2f)' % logit_roc_auc)\n",
    "    plt.plot([0, 1], [0, 1],'r--')\n",
    "    plt.xlim([0.0, 1.0])\n",
    "    plt.ylim([0.0, 1.05])\n",
    "    plt.xlabel('False Positive Rate')\n",
    "    plt.ylabel('True Positive Rate')\n",
    "    plt.title('Receiver operating characteristic (ROC)')\n",
    "    plt.legend(loc=\"lower right\")\n",
    "    #plt.savefig('Log_ROC')\n",
    "    plt.show()\n",
    "roc(y_test, reg_Log, X_test)\n",
    "roc(y_test_LR, reg, X_test_LR)"
   ]
  },
  {
   "cell_type": "markdown",
   "id": "02bfe301",
   "metadata": {},
   "source": [
    "### Build Decision Tree Model"
   ]
  },
  {
   "cell_type": "code",
   "execution_count": 109,
   "id": "20c4a61f",
   "metadata": {
    "ExecuteTime": {
     "end_time": "2023-05-05T00:54:53.612688Z",
     "start_time": "2023-05-05T00:54:53.341146Z"
    }
   },
   "outputs": [
    {
     "name": "stdout",
     "output_type": "stream",
     "text": [
      "Training IV shape:  (36168, 48)\n",
      "Training DV shape:  (36168,)\n",
      "Test IV shape:  (9043, 48)\n",
      "Test DV shape:  (9043,)\n",
      "Accuracy:  0.8707\n"
     ]
    }
   ],
   "source": [
    "X_train_DT, X_test_DT, y_train_DT, y_test_DT = train_test_split(X, y, test_size=0.2, random_state=0)\n",
    "print(\"Training IV shape: \",X_train_DT.shape) # Independent Variable\n",
    "print(\"Training DV shape: \", y_train_DT.shape) # Dependent Variable\n",
    "print(\"Test IV shape: \", X_test_DT.shape)\n",
    "print(\"Test DV shape: \", y_test_DT.shape)\n",
    "\n",
    "clf = DecisionTreeClassifier()\n",
    "clf = clf.fit(X_train_DT,y_train_DT)\n",
    "y_pred_DT = clf.predict(X_test_DT)\n",
    "print(\"Accuracy:  {:.4f}\".format(metrics.accuracy_score(y_test_DT, y_pred_DT)))"
   ]
  },
  {
   "cell_type": "code",
   "execution_count": 108,
   "id": "46b6ddae",
   "metadata": {
    "ExecuteTime": {
     "end_time": "2023-05-05T00:54:47.303710Z",
     "start_time": "2023-05-05T00:54:47.044632Z"
    }
   },
   "outputs": [
    {
     "name": "stdout",
     "output_type": "stream",
     "text": [
      "Accuracy: 0.8715\n"
     ]
    }
   ],
   "source": [
    "clf_opt = DecisionTreeClassifier(criterion=\"entropy\", max_depth=3)\n",
    "clf_opt = clf.fit(X_train_DT,y_train_DT)\n",
    "y_pred_opt = clf_opt.predict(X_test_DT)\n",
    "print(\"Accuracy: {:.4f}\".format(metrics.accuracy_score(y_test_DT, y_pred_opt)))"
   ]
  },
  {
   "cell_type": "code",
   "execution_count": 101,
   "id": "9458180a",
   "metadata": {
    "ExecuteTime": {
     "end_time": "2023-05-05T00:47:29.621699Z",
     "start_time": "2023-05-05T00:47:29.598817Z"
    }
   },
   "outputs": [
    {
     "name": "stdout",
     "output_type": "stream",
     "text": [
      "              precision    recall  f1-score   support\n",
      "\n",
      "           0       0.93      0.92      0.93      7980\n",
      "           1       0.45      0.48      0.47      1063\n",
      "\n",
      "    accuracy                           0.87      9043\n",
      "   macro avg       0.69      0.70      0.70      9043\n",
      "weighted avg       0.87      0.87      0.87      9043\n",
      "\n"
     ]
    }
   ],
   "source": [
    "# The evaluation of Decision Tree Classifier\n",
    "print(classification_report(y_test_DT, y_pred_DT))"
   ]
  },
  {
   "cell_type": "markdown",
   "id": "ddf2f319",
   "metadata": {},
   "source": [
    "### Build K-Nearest Neighbors (KNN) Model"
   ]
  },
  {
   "cell_type": "code",
   "execution_count": 78,
   "id": "affd54d4",
   "metadata": {
    "ExecuteTime": {
     "end_time": "2023-05-04T22:44:51.639419Z",
     "start_time": "2023-05-04T22:43:02.814853Z"
    }
   },
   "outputs": [],
   "source": [
    "k_values = [i for i in range (1,31)]\n",
    "scores = []\n",
    "\n",
    "scaler = StandardScaler()\n",
    "X = scaler.fit_transform(X)\n",
    "\n",
    "for k in k_values:\n",
    "    knn = KNeighborsClassifier(n_neighbors=k)\n",
    "    score = cross_val_score(knn, X, y, cv=5)\n",
    "    scores.append(np.mean(score))"
   ]
  },
  {
   "cell_type": "code",
   "execution_count": 79,
   "id": "9144ce98",
   "metadata": {
    "ExecuteTime": {
     "end_time": "2023-05-04T22:44:51.740565Z",
     "start_time": "2023-05-04T22:44:51.641797Z"
    }
   },
   "outputs": [
    {
     "data": {
      "text/plain": [
       "Text(0, 0.5, 'Accuracy Score')"
      ]
     },
     "execution_count": 79,
     "metadata": {},
     "output_type": "execute_result"
    },
    {
     "data": {
      "image/png": "[encoded data removed]",
      "text/plain": [
       "<Figure size 640x480 with 1 Axes>"
      ]
     },
     "metadata": {},
     "output_type": "display_data"
    }
   ],
   "source": [
    "sns.lineplot(x = k_values, y = scores, marker = 'o')\n",
    "plt.xlabel(\"K Values\")\n",
    "plt.ylabel(\"Accuracy Score\")"
   ]
  },
  {
   "cell_type": "code",
   "execution_count": 113,
   "id": "4df45ad9",
   "metadata": {
    "ExecuteTime": {
     "end_time": "2023-05-05T01:02:02.228348Z",
     "start_time": "2023-05-05T01:02:01.509440Z"
    }
   },
   "outputs": [
    {
     "name": "stdout",
     "output_type": "stream",
     "text": [
      "Training IV shape:  (36168, 48)\n",
      "Training DV shape:  (36168,)\n",
      "Test IV shape:  (9043, 48)\n",
      "Test DV shape:  (9043,)\n",
      "Accuracy: 0.8916\n"
     ]
    }
   ],
   "source": [
    "X_train_KNN, X_test_KNN, y_train_KNN, y_test_KNN = train_test_split(X, y, test_size=0.2, random_state=0)\n",
    "print(\"Training IV shape: \",X_train_KNN.shape) # Independent Variable\n",
    "print(\"Training DV shape: \", y_train_KNN.shape) # Dependent Variable\n",
    "print(\"Test IV shape: \", X_test_KNN.shape)\n",
    "print(\"Test DV shape: \", y_test_KNN.shape)\n",
    "\n",
    "knn = KNeighborsClassifier(n_neighbors=30)\n",
    "knn.fit(X_train_KNN, y_train_KNN)\n",
    "y_pred_KNN = knn.predict(X_test_KNN)\n",
    "accuracy = metrics.accuracy_score(y_test_KNN, y_pred_KNN)\n",
    "#precision = metrics.precision_score(y_test_KNN, y_pred_KNN)\n",
    "#recall = metrics.recall_score(y_test_KNN, y_pred_KNN)\n",
    "print('Accuracy: {:.4f}'.format(accuracy))\n",
    "#print('Precision: {:.4f}'.format(precision))\n",
    "#print('Recall: {:.4f}'.format(recall))"
   ]
  },
  {
   "cell_type": "code",
   "execution_count": 85,
   "id": "e7e88c4f",
   "metadata": {
    "ExecuteTime": {
     "end_time": "2023-05-04T22:52:07.744827Z",
     "start_time": "2023-05-04T22:52:07.723920Z"
    }
   },
   "outputs": [
    {
     "name": "stdout",
     "output_type": "stream",
     "text": [
      "              precision    recall  f1-score   support\n",
      "\n",
      "           0       0.90      0.98      0.94      7980\n",
      "           1       0.61      0.22      0.32      1063\n",
      "\n",
      "    accuracy                           0.89      9043\n",
      "   macro avg       0.76      0.60      0.63      9043\n",
      "weighted avg       0.87      0.89      0.87      9043\n",
      "\n"
     ]
    }
   ],
   "source": [
    "# The evaluation of KNN model\n",
    "print(classification_report(y_test_KNN, y_pred_KNN))"
   ]
  }
 ],
 "metadata": {
  "kernelspec": {
   "display_name": "Python 3 (ipykernel)",
   "language": "python",
   "name": "python3"
  },
  "language_info": {
   "codemirror_mode": {
    "name": "ipython",
    "version": 3
   },
   "file_extension": ".py",
   "mimetype": "text/x-python",
   "name": "python",
   "nbconvert_exporter": "python",
   "pygments_lexer": "ipython3",
   "version": "3.10.9"
  },
  "toc": {
   "base_numbering": 1,
   "nav_menu": {},
   "number_sections": true,
   "sideBar": true,
   "skip_h1_title": false,
   "title_cell": "Table of Contents",
   "title_sidebar": "Contents",
   "toc_cell": false,
   "toc_position": {},
   "toc_section_display": true,
   "toc_window_display": false
  }
 },
 "nbformat": 4,
 "nbformat_minor": 5
}
