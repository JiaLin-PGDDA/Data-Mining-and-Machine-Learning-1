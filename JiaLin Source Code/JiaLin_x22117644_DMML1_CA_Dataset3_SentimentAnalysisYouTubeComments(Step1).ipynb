{
 "cells": [
  {
   "cell_type": "markdown",
   "id": "8dfcba04",
   "metadata": {},
   "source": [
    "# Dataset3 Sentiment Analysis YouTube Comments (Step1)\n",
    "## Import Required Packages"
   ]
  },
  {
   "cell_type": "code",
   "execution_count": 1,
   "id": "3eacb59e",
   "metadata": {
    "ExecuteTime": {
     "end_time": "2023-05-02T01:10:01.284655Z",
     "start_time": "2023-05-02T01:10:00.228974Z"
    }
   },
   "outputs": [],
   "source": [
    "import requests             # library request is used to fetch data from API \n",
    "import json                 # library json is used load json objects\n",
    "import datetime             # library datetime is used to convert between datetime and string\n",
    "from datetime import date\n",
    "\n",
    "import pandas as pd\n",
    "import numpy as np\n",
    "\n",
    "#!pip3 install textblob\n",
    "from textblob import TextBlob # Natural Language Toolkit (NLTK)"
   ]
  },
  {
   "cell_type": "markdown",
   "id": "ce293e79",
   "metadata": {},
   "source": [
    "## Functions"
   ]
  },
  {
   "cell_type": "code",
   "execution_count": 2,
   "id": "c7c681c6",
   "metadata": {
    "ExecuteTime": {
     "end_time": "2023-05-02T01:10:01.288979Z",
     "start_time": "2023-05-02T01:10:01.286051Z"
    }
   },
   "outputs": [],
   "source": [
    "def getResponse(url, headers, querystring): \n",
    "# Get response from given url headers and querystring\n",
    "    return requests.request(\"GET\", url, headers=headers, params=querystring)\n",
    "\n",
    "def getJsonObj(response): \n",
    "# Get a Json object from a given response\n",
    "    return json.loads(response.content.decode(\"utf-8\"))\n",
    "\n",
    "def getJsonObjList(url, headers, queryList): \n",
    "# Get a Json object list from given url, headers and a query list\n",
    "    jsonObjList = []\n",
    "    for query in queryList:\n",
    "        if query != None:\n",
    "            response = getResponse(url, headers, query)\n",
    "            jsonObj = getJsonObj(response)\n",
    "            jsonObjList.append(jsonObj)\n",
    "        else: continue\n",
    "    return jsonObjList\n",
    "\n",
    "def printList(list):\n",
    "    for e in list:print(e)"
   ]
  },
  {
   "cell_type": "markdown",
   "id": "d2153c3f",
   "metadata": {},
   "source": [
    "## Extract Data\n",
    "### Get Video IDs Using API: YouTube Search Result\n",
    "https://rapidapi.com/marindelija/api/youtube-search-results"
   ]
  },
  {
   "cell_type": "code",
   "execution_count": 3,
   "id": "cd6be554",
   "metadata": {
    "ExecuteTime": {
     "end_time": "2023-05-02T01:10:01.291469Z",
     "start_time": "2023-05-02T01:10:01.289799Z"
    }
   },
   "outputs": [],
   "source": [
    "url1 = \"https://youtube-search-results.p.rapidapi.com/youtube-search/\"\n",
    "headers1 = {\"X-RapidAPI-Key\": \"bc72ee8736mshfc960795af3b6ddp15d851jsn50353bd76099\",\n",
    "           \"X-RapidAPI-Host\": \"youtube-search-results.p.rapidapi.com\"}\n",
    "querystring1 = {\"q\":\"thermal+imager\"}"
   ]
  },
  {
   "cell_type": "code",
   "execution_count": 4,
   "id": "4711b020",
   "metadata": {
    "ExecuteTime": {
     "end_time": "2023-05-02T01:10:02.863243Z",
     "start_time": "2023-05-02T01:10:01.292917Z"
    }
   },
   "outputs": [
    {
     "name": "stdout",
     "output_type": "stream",
     "text": [
      "There are  290537  videos of thermal imager on 2023-05-02\n",
      "{'id': '1DiqL8iFD8g'}\n",
      "{'id': 'OwkVMjhdau4'}\n",
      "{'id': 'CcoNwPiHc1Y'}\n",
      "{'id': 'h3Hu_op4mG8'}\n",
      "{'id': '9XfoCYDThg0'}\n",
      "{'id': 'XXnU4OkZ7gc'}\n",
      "{'id': 'XdVEl6IIcOo'}\n",
      "{'id': 'iXSTcy-7VDY'}\n",
      "{'id': 'AzCjYpiuy2Q'}\n",
      "{'id': 'EoDFUQsUeN4'}\n",
      "{'id': 'ayvxFF0ocHY'}\n",
      "{'id': 'n0zfI-ZGeow'}\n",
      "{'id': 'Ak1ncty4c9U'}\n",
      "{'id': 'Z6zNxnYbUdc'}\n",
      "{'id': 't2PoPh2B9qo'}\n",
      "{'id': 'm2LbePLRzx4'}\n",
      "{'id': '48bwQVa0AQc'}\n",
      "{'id': 'iX1wFkYdpy8'}\n",
      "{'id': 'NSzb7_NPGNI'}\n",
      "{'id': 'trJd1MF5nlo'}\n",
      "{'id': 'AwezeAIHG-c'}\n",
      "{'id': '4pber8itJ2A'}\n",
      "{'id': '_lDm0RV9IV8'}\n",
      "{'id': 'VURZLhsz1jA'}\n"
     ]
    }
   ],
   "source": [
    "response_getId = getResponse(url1, headers1, querystring1)\n",
    "json_obj_getId = getJsonObj(response_getId)\n",
    "\n",
    "res_number = json_obj_getId['results']\n",
    "print('There are ', res_number, ' videos of thermal imager on', date.today())\n",
    "\n",
    "items = json_obj_getId['items']\n",
    "queryList = []\n",
    "for item in items:\n",
    "    if item.get('id')!=None:\n",
    "        queryList.append({'id': item.get('id')})\n",
    "    else: continue\n",
    "printList(queryList)"
   ]
  },
  {
   "cell_type": "markdown",
   "id": "677f9658",
   "metadata": {},
   "source": [
    "### Get Comments Using API: YouTube Seach and Download\n",
    "https://rapidapi.com/h0p3rwe/api/youtube-search-and-download"
   ]
  },
  {
   "cell_type": "code",
   "execution_count": 5,
   "id": "de612bff",
   "metadata": {
    "ExecuteTime": {
     "end_time": "2023-05-02T01:10:18.107105Z",
     "start_time": "2023-05-02T01:10:02.866958Z"
    }
   },
   "outputs": [],
   "source": [
    "url2 = \"https://youtube-search-and-download.p.rapidapi.com/video/comments\"\n",
    "headers2 = {\"X-RapidAPI-Key\": \"bc72ee8736mshfc960795af3b6ddp15d851jsn50353bd76099\",\n",
    "            \"X-RapidAPI-Host\": \"youtube-search-and-download.p.rapidapi.com\"}\n",
    "\n",
    "jsonObjList = getJsonObjList(url2, headers2, queryList)"
   ]
  },
  {
   "cell_type": "code",
   "execution_count": 6,
   "id": "ddb69d4a",
   "metadata": {
    "ExecuteTime": {
     "end_time": "2023-05-02T01:10:18.126532Z",
     "start_time": "2023-05-02T01:10:18.110174Z"
    }
   },
   "outputs": [],
   "source": [
    "all_comments = []\n",
    "for jsonObj in jsonObjList:\n",
    "    authors = jsonObj['comments']\n",
    "    comments = []\n",
    "    for author in authors:\n",
    "        if author.get('text')!=None:\n",
    "            comments.append(author.get('text'))\n",
    "        else: continue\n",
    "    all_comments.extend(comments)\n",
    "#printList(all_comments)\n",
    "\n",
    "dict = {'comments': all_comments}         \n",
    "df = pd.DataFrame(dict) \n",
    "df.to_csv('YTcomments.csv') "
   ]
  },
  {
   "cell_type": "markdown",
   "id": "3009a885",
   "metadata": {},
   "source": [
    "## YouTube Comments Datasets from Kaggle\n",
    "https://www.kaggle.com/code/adepvenugopal/sentiment-analysis-of-youtube-comments/input?select=GBcomments.csv (Create Train Datasets)\n",
    "https://www.kaggle.com/code/adepvenugopal/sentiment-analysis-of-youtube-comments/input?select=UScomments.csv （Create Test Datasets）\n",
    "### Load Data"
   ]
  },
  {
   "cell_type": "code",
   "execution_count": 7,
   "id": "2f581c95",
   "metadata": {
    "ExecuteTime": {
     "end_time": "2023-05-02T01:10:19.995524Z",
     "start_time": "2023-05-02T01:10:18.130222Z"
    }
   },
   "outputs": [
    {
     "name": "stdout",
     "output_type": "stream",
     "text": [
      "<class 'pandas.core.frame.DataFrame'>\n",
      "RangeIndex: 718452 entries, 0 to 718451\n",
      "Data columns (total 4 columns):\n",
      " #   Column        Non-Null Count   Dtype \n",
      "---  ------        --------------   ----- \n",
      " 0   video_id      718452 non-null  object\n",
      " 1   comment_text  718424 non-null  object\n",
      " 2   likes         718452 non-null  int64 \n",
      " 3   replies       718452 non-null  int64 \n",
      "dtypes: int64(2), object(2)\n",
      "memory usage: 21.9+ MB\n",
      "<class 'pandas.core.frame.DataFrame'>\n",
      "RangeIndex: 353 entries, 0 to 352\n",
      "Data columns (total 2 columns):\n",
      " #   Column      Non-Null Count  Dtype \n",
      "---  ------      --------------  ----- \n",
      " 0   Unnamed: 0  353 non-null    int64 \n",
      " 1   comments    353 non-null    object\n",
      "dtypes: int64(1), object(1)\n",
      "memory usage: 5.6+ KB\n",
      "<class 'pandas.core.frame.DataFrame'>\n",
      "RangeIndex: 691400 entries, 0 to 691399\n",
      "Data columns (total 4 columns):\n",
      " #   Column        Non-Null Count   Dtype \n",
      "---  ------        --------------   ----- \n",
      " 0   video_id      691400 non-null  object\n",
      " 1   comment_text  691375 non-null  object\n",
      " 2   likes         691400 non-null  object\n",
      " 3   replies       691400 non-null  object\n",
      "dtypes: object(4)\n",
      "memory usage: 21.1+ MB\n"
     ]
    },
    {
     "data": {
      "text/html": [
       "<div>\n",
       "<style scoped>\n",
       "    .dataframe tbody tr th:only-of-type {\n",
       "        vertical-align: middle;\n",
       "    }\n",
       "\n",
       "    .dataframe tbody tr th {\n",
       "        vertical-align: top;\n",
       "    }\n",
       "\n",
       "    .dataframe thead th {\n",
       "        text-align: right;\n",
       "    }\n",
       "</style>\n",
       "<table border=\"1\" class=\"dataframe\">\n",
       "  <thead>\n",
       "    <tr style=\"text-align: right;\">\n",
       "      <th></th>\n",
       "      <th>video_id</th>\n",
       "      <th>comment_text</th>\n",
       "      <th>likes</th>\n",
       "      <th>replies</th>\n",
       "    </tr>\n",
       "  </thead>\n",
       "  <tbody>\n",
       "    <tr>\n",
       "      <th>0</th>\n",
       "      <td>XpVt6Z1Gjjo</td>\n",
       "      <td>Logan Paul it's yo big day ‼️‼️‼️</td>\n",
       "      <td>4</td>\n",
       "      <td>0</td>\n",
       "    </tr>\n",
       "    <tr>\n",
       "      <th>1</th>\n",
       "      <td>XpVt6Z1Gjjo</td>\n",
       "      <td>I've been following you from the start of your...</td>\n",
       "      <td>3</td>\n",
       "      <td>0</td>\n",
       "    </tr>\n",
       "    <tr>\n",
       "      <th>2</th>\n",
       "      <td>XpVt6Z1Gjjo</td>\n",
       "      <td>Say hi to Kong and maverick for me</td>\n",
       "      <td>3</td>\n",
       "      <td>0</td>\n",
       "    </tr>\n",
       "    <tr>\n",
       "      <th>3</th>\n",
       "      <td>XpVt6Z1Gjjo</td>\n",
       "      <td>MY FAN . attendance</td>\n",
       "      <td>3</td>\n",
       "      <td>0</td>\n",
       "    </tr>\n",
       "    <tr>\n",
       "      <th>4</th>\n",
       "      <td>XpVt6Z1Gjjo</td>\n",
       "      <td>trending 😉</td>\n",
       "      <td>3</td>\n",
       "      <td>0</td>\n",
       "    </tr>\n",
       "  </tbody>\n",
       "</table>\n",
       "</div>"
      ],
      "text/plain": [
       "      video_id                                       comment_text likes  \\\n",
       "0  XpVt6Z1Gjjo                  Logan Paul it's yo big day ‼️‼️‼️     4   \n",
       "1  XpVt6Z1Gjjo  I've been following you from the start of your...     3   \n",
       "2  XpVt6Z1Gjjo                 Say hi to Kong and maverick for me     3   \n",
       "3  XpVt6Z1Gjjo                                MY FAN . attendance     3   \n",
       "4  XpVt6Z1Gjjo                                         trending 😉     3   \n",
       "\n",
       "  replies  \n",
       "0       0  \n",
       "1       0  \n",
       "2       0  \n",
       "3       0  \n",
       "4       0  "
      ]
     },
     "execution_count": 7,
     "metadata": {},
     "output_type": "execute_result"
    }
   ],
   "source": [
    "# Load Data\n",
    "train_data = pd.read_csv('GBcomments.csv',encoding='utf8', on_bad_lines='skip')\n",
    "train_data.shape\n",
    "train_data.info()\n",
    "train_data.head()\n",
    "\n",
    "test_data = pd.read_csv('YTcomments.csv',encoding='utf8', on_bad_lines='skip')\n",
    "test_data.shape\n",
    "test_data.info()\n",
    "test_data.head()\n",
    "\n",
    "test2_data = pd.read_csv('UScomments.csv',encoding='utf8', on_bad_lines='skip', low_memory=False)\n",
    "test2_data.shape\n",
    "test2_data.info()\n",
    "test2_data.head()\n"
   ]
  },
  {
   "cell_type": "markdown",
   "id": "e517daa4",
   "metadata": {},
   "source": [
    "### Preprocess Data"
   ]
  },
  {
   "cell_type": "code",
   "execution_count": 8,
   "id": "61c63b03",
   "metadata": {
    "ExecuteTime": {
     "end_time": "2023-05-02T01:12:34.858166Z",
     "start_time": "2023-05-02T01:10:19.996750Z"
    }
   },
   "outputs": [
    {
     "name": "stdout",
     "output_type": "stream",
     "text": [
      "Number of Rows which are need to be deleted:  28\n",
      "Number of Rows which are need to be deleted:  0\n",
      "Number of Rows which are need to be deleted:  25\n"
     ]
    }
   ],
   "source": [
    "# Source Code: https://www.kaggle.com/code/adepvenugopal/sentiment-analysis-of-youtube-comments/notebook\n",
    "# Modified by Jia Lin\n",
    "# Calculate the Sentiment Polarity\n",
    "def getPol(data, column_name):\n",
    "    mark_index = []\n",
    "    pol=[] # list which will contain the polarity of the comments\n",
    "    for i in data.index:\n",
    "        content = data[column_name][i]\n",
    "        if type(content)==str: # The sentiment polarity only can be calculated on str type\n",
    "            analysis =TextBlob(content) \n",
    "            pol.append(analysis.sentiment.polarity)\n",
    "        else: \n",
    "            mark_index.append(i)\n",
    "            continue\n",
    "    print('Number of Rows which are need to be deleted: ', len(mark_index))\n",
    "    return pol, mark_index\n",
    "train_pol, train_mIndex = getPol(train_data, 'comment_text')\n",
    "test_pol, test_mIndex = getPol(test_data, 'comments')\n",
    "test2_pol, test2_mIndex = getPol(test2_data, 'comment_text')"
   ]
  },
  {
   "cell_type": "code",
   "execution_count": 9,
   "id": "c7f31bce",
   "metadata": {
    "ExecuteTime": {
     "end_time": "2023-05-02T01:12:34.998067Z",
     "start_time": "2023-05-02T01:12:34.859326Z"
    }
   },
   "outputs": [],
   "source": [
    "# Delete the marked rows whose comment_text is not a str\n",
    "train_data = train_data.drop(train_mIndex)\n",
    "test_data = test_data.drop(test_mIndex)\n",
    "test2_data = test2_data.drop(test2_mIndex)\n",
    "# Add the Sentiment Polarity column to the data\n",
    "train_data['polarity'] = train_pol\n",
    "test_data['polarity'] = test_pol\n",
    "test2_data['polarity'] = test2_pol"
   ]
  },
  {
   "cell_type": "code",
   "execution_count": 10,
   "id": "2e47ba24",
   "metadata": {
    "ExecuteTime": {
     "end_time": "2023-05-02T01:12:35.064310Z",
     "start_time": "2023-05-02T01:12:35.000786Z"
    }
   },
   "outputs": [],
   "source": [
    "train_data_neutral = train_data.loc[train_data['polarity']== 0] # Store the Neutral comments\n",
    "train_data_positive = train_data.loc[train_data['polarity']> 0] # Store the Positive comments\n",
    "train_data_negative = train_data.loc[train_data['polarity']< 0] # Store the Negative comments\n",
    "\n",
    "test_data_neutral = test_data.loc[test_data['polarity']== 0] \n",
    "test_data_positive = test_data.loc[test_data['polarity']> 0] \n",
    "test_data_negative = test_data.loc[test_data['polarity']< 0]\n",
    "\n",
    "test2_data_neutral = test2_data.loc[test2_data['polarity']== 0] \n",
    "test2_data_positive = test2_data.loc[test2_data['polarity']> 0] \n",
    "test2_data_negative = test2_data.loc[test2_data['polarity']< 0]"
   ]
  },
  {
   "cell_type": "code",
   "execution_count": 11,
   "id": "25bbb16a",
   "metadata": {
    "ExecuteTime": {
     "end_time": "2023-05-02T01:12:38.760263Z",
     "start_time": "2023-05-02T01:12:35.065392Z"
    }
   },
   "outputs": [
    {
     "name": "stdout",
     "output_type": "stream",
     "text": [
      "train_data_neutral_comments:  (286255, 5)\n",
      "train_data_poistive_comments:  (327282, 5)\n",
      "train_data_negative_comments:  (104887, 5)\n",
      "test_data_neutral_comments:  (79, 3)\n",
      "test_data_positive_comments:  (224, 3)\n",
      "test_data_negative_comments:  (50, 3)\n",
      "test2_data_neutral_comments:  (284425, 5)\n",
      "test2_data_positive_comments:  (300796, 5)\n",
      "test2_data_negative_comments:  (106154, 5)\n"
     ]
    }
   ],
   "source": [
    "print('train_data_neutral_comments: ', train_data_neutral.shape)\n",
    "train_data_neutral.to_csv('train_neutral_comments.csv', encoding='utf-8')\n",
    "print('train_data_poistive_comments: ', train_data_positive.shape)\n",
    "train_data_positive.to_csv('train_positive.csv', encoding='utf-8')\n",
    "print('train_data_negative_comments: ', train_data_negative.shape)\n",
    "train_data_negative.to_csv('train_negative.csv', encoding='utf-8')\n",
    "\n",
    "print('test_data_neutral_comments: ', test_data_neutral.shape)\n",
    "test_data_neutral.to_csv('test_neutral_comments.csv', encoding='utf-8')\n",
    "print('test_data_positive_comments: ', test_data_positive.shape)\n",
    "test_data_positive.to_csv('test_positive.csv', encoding='utf-8')\n",
    "print('test_data_negative_comments: ', test_data_negative.shape)\n",
    "test_data_negative.to_csv('test_negative.csv', encoding='utf-8')\n",
    "\n",
    "print('test2_data_neutral_comments: ', test2_data_neutral.shape)\n",
    "test2_data_neutral.to_csv('test2_neutral_comments.csv', encoding='utf-8')\n",
    "print('test2_data_positive_comments: ', test2_data_positive.shape)\n",
    "test2_data_positive.to_csv('test2_positive.csv', encoding='utf-8')\n",
    "print('test2_data_negative_comments: ', test2_data_negative.shape)\n",
    "test2_data_negative.to_csv('test2_negative.csv', encoding='utf-8')\n"
   ]
  },
  {
   "cell_type": "code",
   "execution_count": 12,
   "id": "2d609244",
   "metadata": {
    "ExecuteTime": {
     "end_time": "2023-05-02T01:12:38.777419Z",
     "start_time": "2023-05-02T01:12:38.761349Z"
    }
   },
   "outputs": [
    {
     "name": "stdout",
     "output_type": "stream",
     "text": [
      "                                        comment_text\n",
      "0  It's more accurate to call it the M+ (1000) be...\n",
      "4  Power is the disease.  Care is the cure.  Keep...\n",
      "5  Keep calm and buy iphone 8 Keep calm and buy i...\n",
      "8  *APPLE JUST COMMENTED ON MY LAST VIDEO* I'm cr...\n",
      "9  I'm only here to see Emma, I love her so much!...\n",
      "                                         comment_text\n",
      "7   You will never find Losers who line up and pay...\n",
      "61                                       25 Hours WTF\n",
      "74                                     fuck you beech\n",
      "75                                      piece of shit\n",
      "87  Apple is terrible and they only care about the...\n",
      "                                            comments\n",
      "0  Nice examples of thermal camera use.  Also, wh...\n",
      "1  How can anyone not love this guy, he is hilari...\n",
      "3  I'm an HVAC tech, I could really use this to h...\n",
      "4  this would be a really useful tool for hvac te...\n",
      "5  Nice demo, thanks. I had been eyeballing these...\n",
      "                                             comments\n",
      "2   the ability to see things in the dark just by ...\n",
      "8   This would be pretty useful to have as an EE s...\n",
      "26       I am not normal, how can I get one of these?\n",
      "29  What I like most about this is the fact you do...\n",
      "30  Excellent video presentation,  review and comp...\n",
      "                                         comment_text\n",
      "8                         Happy one year vlogaversary\n",
      "11  Dear Logan, I really wanna get your Merch but ...\n",
      "13                   Casey is still better then logan\n",
      "15                       He happy cause he in a movie\n",
      "18  It's been fun watching you grow. I'm at 42 day...\n",
      "                                         comment_text\n",
      "9   You and your shit brother may have single hand...\n",
      "12  Honestly Evan is so annoying. Like its not fun...\n",
      "16  Ayyyyoooo Logang what up .  This was a hard vl...\n",
      "19             Made a lot of people hate youtube - GJ\n",
      "28  Evan is a horrible human being he also looks s...\n"
     ]
    }
   ],
   "source": [
    "#print(train_data_positive.head())\n",
    "#print(train_data_negative.head())\n",
    "#print(test_data_positive.head())\n",
    "#print(test_data_positive.head())\n",
    "\n",
    "train_pos_df = train_data_positive.drop(['video_id', 'likes', 'replies', 'polarity'], axis=1)\n",
    "train_neg_df = train_data_negative.drop(['video_id', 'likes', 'replies', 'polarity'], axis=1)\n",
    "test_pos_df = test_data_positive.drop(['Unnamed: 0', 'polarity'], axis=1)\n",
    "test_neg_df = test_data_negative.drop(['Unnamed: 0', 'polarity'], axis=1)\n",
    "test2_pos_df = test2_data_positive.drop(['video_id', 'likes', 'replies', 'polarity'], axis=1)\n",
    "test2_neg_df = test2_data_negative.drop(['video_id', 'likes', 'replies', 'polarity'], axis=1)\n",
    "\n",
    "print(train_pos_df.head())\n",
    "print(train_neg_df.head())\n",
    "print(test_pos_df.head())\n",
    "print(test_neg_df.head())\n",
    "print(test2_pos_df.head())\n",
    "print(test2_neg_df.head())"
   ]
  },
  {
   "cell_type": "code",
   "execution_count": 13,
   "id": "25b12092",
   "metadata": {
    "ExecuteTime": {
     "end_time": "2023-05-02T01:12:53.858118Z",
     "start_time": "2023-05-02T01:12:38.778546Z"
    }
   },
   "outputs": [],
   "source": [
    "def createTextFile(fileName, df):\n",
    "    with open(fileName, 'a') as f:\n",
    "        df_string = df.to_string(header=False, index=False)\n",
    "        f.write(df_string)\n",
    "createTextFile('train_Pos.txt', train_pos_df)\n",
    "createTextFile('train_Neg.txt', train_neg_df)\n",
    "createTextFile('test_Pos.txt', test_pos_df)\n",
    "createTextFile('test_Neg.txt', test_neg_df)\n",
    "createTextFile('test2_Pos.txt', test_pos_df)\n",
    "createTextFile('test2_Neg.txt', test_neg_df)"
   ]
  },
  {
   "cell_type": "code",
   "execution_count": null,
   "id": "a0c88d83",
   "metadata": {},
   "outputs": [],
   "source": []
  }
 ],
 "metadata": {
  "kernelspec": {
   "display_name": "Python 3 (ipykernel)",
   "language": "python",
   "name": "python3"
  },
  "language_info": {
   "codemirror_mode": {
    "name": "ipython",
    "version": 3
   },
   "file_extension": ".py",
   "mimetype": "text/x-python",
   "name": "python",
   "nbconvert_exporter": "python",
   "pygments_lexer": "ipython3",
   "version": "3.10.9"
  },
  "toc": {
   "base_numbering": 1,
   "nav_menu": {},
   "number_sections": true,
   "sideBar": true,
   "skip_h1_title": false,
   "title_cell": "Table of Contents",
   "title_sidebar": "Contents",
   "toc_cell": false,
   "toc_position": {},
   "toc_section_display": true,
   "toc_window_display": false
  }
 },
 "nbformat": 4,
 "nbformat_minor": 5
}
